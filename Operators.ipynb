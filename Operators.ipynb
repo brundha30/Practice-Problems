{
 "cells": [
  {
   "cell_type": "markdown",
   "metadata": {},
   "source": [
    "# Python program to add two numbers"
   ]
  },
  {
   "cell_type": "code",
   "execution_count": 5,
   "metadata": {},
   "outputs": [
    {
     "name": "stdout",
     "output_type": "stream",
     "text": [
      "Enter the first number:100\n",
      "Enter the second number:200\n",
      "The answer is: 300\n"
     ]
    }
   ],
   "source": [
    "a=eval(input(\"Enter the first number:\"))\n",
    "b=eval(input(\"Enter the second number:\"))\n",
    "c=a+b\n",
    "print(\"The answer is:\",c)"
   ]
  },
  {
   "cell_type": "markdown",
   "metadata": {},
   "source": [
    "# Python Program to Perform all arithmetic operations"
   ]
  },
  {
   "cell_type": "code",
   "execution_count": 11,
   "metadata": {},
   "outputs": [
    {
     "name": "stdout",
     "output_type": "stream",
     "text": [
      "Enter the number:10\n",
      "Enter the number:28\n",
      "Enter the number:50\n",
      "150.0\n"
     ]
    }
   ],
   "source": [
    "a=int(input(\"Enter the number:\"))\n",
    "b=int(input(\"Enter the number:\"))\n",
    "c=int(input(\"Enter the number:\"))\n",
    "d=a+b*c/a\n",
    "print(d)"
   ]
  },
  {
   "cell_type": "code",
   "execution_count": 19,
   "metadata": {},
   "outputs": [
    {
     "name": "stdout",
     "output_type": "stream",
     "text": [
      "Enter the number:10\n",
      "Enter the number:40\n",
      "The final answer: 4\n"
     ]
    }
   ],
   "source": [
    "a=int(input(\"Enter the number:\"))\n",
    "b=int(input(\"Enter the number:\"))\n",
    "c=b//a\n",
    "print(\"The final answer:\",c)"
   ]
  },
  {
   "cell_type": "code",
   "execution_count": 20,
   "metadata": {},
   "outputs": [
    {
     "name": "stdout",
     "output_type": "stream",
     "text": [
      "Enter the number:2\n",
      "Enter the number:6\n",
      "The final answer: 64\n"
     ]
    }
   ],
   "source": [
    "a=int(input(\"Enter the number:\"))\n",
    "b=int(input(\"Enter the number:\"))\n",
    "c=a**b\n",
    "print(\"The final answer:\",c)\n"
   ]
  },
  {
   "cell_type": "code",
   "execution_count": 21,
   "metadata": {},
   "outputs": [
    {
     "name": "stdout",
     "output_type": "stream",
     "text": [
      "Enter the number:3\n",
      "Enter the number:10\n",
      "The final answer: 3\n"
     ]
    }
   ],
   "source": [
    "a=int(input(\"Enter the number:\"))\n",
    "b=int(input(\"Enter the number:\"))\n",
    "c=a%b\n",
    "print(\"The final answer:\",c)"
   ]
  },
  {
   "cell_type": "markdown",
   "metadata": {},
   "source": [
    "# Python Program for Program to find area of a circle"
   ]
  },
  {
   "cell_type": "code",
   "execution_count": 22,
   "metadata": {},
   "outputs": [
    {
     "name": "stdout",
     "output_type": "stream",
     "text": [
      "Enter the radius:5\n",
      "Area of a circle is: 78.5\n"
     ]
    }
   ],
   "source": [
    "r=int(input(\"Enter the radius:\"))\n",
    "a_circle = 3.14 * r ** 2\n",
    "print(\"Area of a circle is:\",a_circle)\n"
   ]
  },
  {
   "cell_type": "markdown",
   "metadata": {},
   "source": [
    "# Python Program to find Area and Perimeter of Square and Rectangle"
   ]
  },
  {
   "cell_type": "code",
   "execution_count": 25,
   "metadata": {},
   "outputs": [
    {
     "name": "stdout",
     "output_type": "stream",
     "text": [
      "Enter the area:6\n",
      "Enter the length:11\n",
      "Enter the width:12\n",
      "Area of a square is: 36\n",
      "Perimeter of a square is: 24\n",
      "Area of a rectangle is: 132\n",
      "Perimeter of a rectangle is: 46\n"
     ]
    }
   ],
   "source": [
    "a=eval(input(\"Enter the area:\"))\n",
    "l=eval(input(\"Enter the length:\"))\n",
    "w=eval(input(\"Enter the width:\"))\n",
    "\n",
    "area_sq=a**2\n",
    "perimeter_sq=4*a\n",
    "\n",
    "area_rec=l*w\n",
    "perimeter_rec=2*(l+w)\n",
    "\n",
    "print(\"Area of a square is:\",area_sq)\n",
    "print(\"Perimeter of a square is:\",perimeter_sq)\n",
    "print(\"Area of a rectangle is:\",area_rec)\n",
    "print(\"Perimeter of a rectangle is:\",perimeter_rec)"
   ]
  },
  {
   "cell_type": "markdown",
   "metadata": {},
   "source": [
    "# Python Program to find simple interest"
   ]
  },
  {
   "cell_type": "code",
   "execution_count": 26,
   "metadata": {},
   "outputs": [
    {
     "name": "stdout",
     "output_type": "stream",
     "text": [
      "Enter the price:10000\n",
      "Enter the rate:500\n",
      "Enter the time:2\n",
      "Simple interest is : 100000.0\n"
     ]
    }
   ],
   "source": [
    "P=int(input(\"Enter the price:\"))\n",
    "R=int(input(\"Enter the rate:\"))\n",
    "T=int(input(\"Enter the time:\"))\n",
    "si=P*R*T/100\n",
    "print(\"Simple interest is :\",si)"
   ]
  },
  {
   "cell_type": "markdown",
   "metadata": {},
   "source": [
    "# Python Program to Find Compound Interest"
   ]
  },
  {
   "cell_type": "code",
   "execution_count": 28,
   "metadata": {},
   "outputs": [
    {
     "name": "stdout",
     "output_type": "stream",
     "text": [
      "Enter the price:25000\n",
      "Enter the rate:500\n",
      "Enter the time:4\n",
      "Compound interest is: 32400000.0\n"
     ]
    }
   ],
   "source": [
    "P=int(input(\"Enter the price:\"))\n",
    "R=int(input(\"Enter the rate:\"))\n",
    "t=int(input(\"Enter the time:\"))\n",
    "ci=P*(1+(R/100))**t\n",
    "print(\"Compound interest is:\",ci)\n"
   ]
  },
  {
   "cell_type": "markdown",
   "metadata": {},
   "source": [
    "# Python Program to Convert fahrenheit to celsius Temperature"
   ]
  },
  {
   "cell_type": "code",
   "execution_count": 33,
   "metadata": {},
   "outputs": [
    {
     "name": "stdout",
     "output_type": "stream",
     "text": [
      "Enter the temperature:50\n",
      "Enter the temperature:35\n",
      "95.0 degree of fahrenheit is equal to 10.0 degree celsius.\n"
     ]
    }
   ],
   "source": [
    "fahrenheit=int(input(\"Enter the temperature:\"))\n",
    "celsius=int(input(\"Enter the temperature:\"))\n",
    "\n",
    "c=(fahrenheit-32)/1.8\n",
    "f=(celsius*1.8)+32\n",
    "\n",
    "print(str(f) + \" degree of fahrenheit is equal to\" +\" \" +str(c) + \" \"+\"degree celsius.\")\n",
    "\n"
   ]
  },
  {
   "cell_type": "code",
   "execution_count": null,
   "metadata": {},
   "outputs": [],
   "source": []
  },
  {
   "cell_type": "code",
   "execution_count": null,
   "metadata": {},
   "outputs": [],
   "source": []
  }
 ],
 "metadata": {
  "kernelspec": {
   "display_name": "Python 3",
   "language": "python",
   "name": "python3"
  },
  "language_info": {
   "codemirror_mode": {
    "name": "ipython",
    "version": 3
   },
   "file_extension": ".py",
   "mimetype": "text/x-python",
   "name": "python",
   "nbconvert_exporter": "python",
   "pygments_lexer": "ipython3",
   "version": "3.7.6"
  }
 },
 "nbformat": 4,
 "nbformat_minor": 4
}
