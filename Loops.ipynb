{
 "cells": [
  {
   "cell_type": "markdown",
   "metadata": {},
   "source": [
    "# Python Program for factorial of a number\n"
   ]
  },
  {
   "cell_type": "code",
   "execution_count": 1,
   "metadata": {},
   "outputs": [
    {
     "name": "stdout",
     "output_type": "stream",
     "text": [
      "Enter the number:5\n",
      "120\n"
     ]
    }
   ],
   "source": [
    "num=int(input(\"Enter the number:\"))\n",
    "fact=1\n",
    "for i in range(1,num+1):\n",
    "    fact=fact*i\n",
    "print(fact)\n",
    "    "
   ]
  },
  {
   "cell_type": "markdown",
   "metadata": {},
   "source": [
    "# Python Program to check Armstrong Number\n"
   ]
  },
  {
   "cell_type": "code",
   "execution_count": 2,
   "metadata": {},
   "outputs": [
    {
     "name": "stdout",
     "output_type": "stream",
     "text": [
      "Enter the number:153\n",
      "Reminder is 3\n",
      "Sum is 27\n",
      "15\n",
      "Reminder is 5\n",
      "Sum is 152\n",
      "1\n",
      "Reminder is 1\n",
      "Sum is 153\n",
      "0\n",
      "153 is a Armstrong number.\n"
     ]
    }
   ],
   "source": [
    "num=int(input(\"Enter the number:\"))\n",
    "\n",
    "m=num\n",
    "sum=0\n",
    "\n",
    "while num!=0:\n",
    "    rem=num%10\n",
    "    print(\"Reminder is\",rem)\n",
    "    sum=sum+rem**3\n",
    "    print(\"Sum is\",sum)\n",
    "    num=num//10\n",
    "    print(num)\n",
    "\n",
    "if sum==m:\n",
    "    print(m,\"is a Armstrong number.\")\n",
    "else:\n",
    "    print(m,\"is not a Armstrong number.\")"
   ]
  },
  {
   "cell_type": "markdown",
   "metadata": {},
   "source": [
    "# Python program to check whether a number is Prime or not\n",
    "\n"
   ]
  },
  {
   "cell_type": "code",
   "execution_count": 3,
   "metadata": {},
   "outputs": [
    {
     "name": "stdout",
     "output_type": "stream",
     "text": [
      "Enter the number:3\n",
      "3 is a prime number.\n"
     ]
    }
   ],
   "source": [
    "num=int(input(\"Enter the number:\"))\n",
    "\n",
    "if num==1:\n",
    "    print(\"1 is neither prime nor composite.\")\n",
    "elif num>1:\n",
    "    for i in range(2,num):\n",
    "        if num%i==0:\n",
    "            print(num,\"is not a prime number\")\n",
    "            break\n",
    "    else:\n",
    "        print(num,\"is a prime number.\")\n",
    "else:\n",
    "    print(num,\"is a not a prime number.\")\n"
   ]
  },
  {
   "cell_type": "markdown",
   "metadata": {},
   "source": [
    "# Python program to print all Prime numbers in an Interval\n"
   ]
  },
  {
   "cell_type": "code",
   "execution_count": 4,
   "metadata": {},
   "outputs": [
    {
     "name": "stdout",
     "output_type": "stream",
     "text": [
      "Enter the number:1\n",
      "Enter the number:21\n",
      "2\n",
      "3\n",
      "5\n",
      "7\n",
      "11\n",
      "13\n",
      "17\n",
      "19\n"
     ]
    }
   ],
   "source": [
    "a=int(input(\"Enter the number:\"))\n",
    "b=int(input(\"Enter the number:\"))\n",
    "\n",
    "for num in range(a,b+1):\n",
    "    if num>1:\n",
    "        for i in range(2,num):\n",
    "            if num%i==0:\n",
    "                break\n",
    "        else:\n",
    "            print(num)"
   ]
  },
  {
   "cell_type": "markdown",
   "metadata": {},
   "source": [
    "# Python Program for n-th Fibonacci number\n"
   ]
  },
  {
   "cell_type": "code",
   "execution_count": 5,
   "metadata": {},
   "outputs": [
    {
     "name": "stdout",
     "output_type": "stream",
     "text": [
      "Enter the first number:0\n",
      "Enter the second number:1\n",
      "0 1 1 2 3 5 8 13 21 34 \n"
     ]
    }
   ],
   "source": [
    "num_1=eval(input(\"Enter the first number:\"))\n",
    "num_2=eval(input(\"Enter the second number:\"))\n",
    "print(num_1,num_2,end=\" \")\n",
    "\n",
    "for i in range(1,9):\n",
    "    num_3=num_1 + num_2\n",
    "    num_1=num_2\n",
    "    num_2=num_3\n",
    "    print((num_3),end=\" \")\n",
    "print()"
   ]
  },
  {
   "cell_type": "markdown",
   "metadata": {},
   "source": [
    "# Python Program for How to check if a given number is Fibonacci number?\n"
   ]
  },
  {
   "cell_type": "code",
   "execution_count": 9,
   "metadata": {},
   "outputs": [
    {
     "name": "stdout",
     "output_type": "stream",
     "text": [
      "Enter the number:13\n",
      "Yes! It is a fibonacci number.\n"
     ]
    }
   ],
   "source": [
    "num=int(input(\"Enter the number:\"))\n",
    "\n",
    "c=0\n",
    "a=1\n",
    "b=1\n",
    "\n",
    "if num==0 and num==1:\n",
    "    print(\"Yes! It is fibonacci number.\")\n",
    "else:\n",
    "    while c<num:\n",
    "        c=a+b\n",
    "        b=a\n",
    "        a=c\n",
    "    if c==num:\n",
    "        print(\"Yes! It is a fibonacci number.\")\n",
    "    else:\n",
    "        print(\"No! It is not a fibonacci number.\")"
   ]
  },
  {
   "cell_type": "markdown",
   "metadata": {},
   "source": [
    "# Python Program for n\\’th multiple of a number in Fibonacci Series\n"
   ]
  },
  {
   "cell_type": "code",
   "execution_count": null,
   "metadata": {},
   "outputs": [
    {
     "name": "stdout",
     "output_type": "stream",
     "text": [
      "Enter the number:5\n",
      "Enter the number:4\n"
     ]
    }
   ],
   "source": [
    "multiple_num=int(input(\"Enter the number:\"))\n",
    "num=int(input(\"Enter the number:\"))\n",
    "\n",
    "a=0\n",
    "b=1\n",
    "i=2\n",
    "while i!=0:\n",
    "    c=a+b\n",
    "    b=a\n",
    "    a=c\n",
    "    if b%num==0:\n",
    "        (multiple_num*i)\n",
    "    i+=1\n",
    "print(i)\n",
    "\n"
   ]
  },
  {
   "cell_type": "markdown",
   "metadata": {},
   "source": [
    "# Python Program for Sum of squares of first n natural numbers\n"
   ]
  },
  {
   "cell_type": "code",
   "execution_count": 6,
   "metadata": {},
   "outputs": [
    {
     "name": "stdout",
     "output_type": "stream",
     "text": [
      "Enter the starting number:1\n",
      "Enter the ending number:10\n",
      "385\n"
     ]
    }
   ],
   "source": [
    "a=int(input(\"Enter the starting number:\"))\n",
    "b=int(input(\"Enter the ending number:\"))\n",
    "\n",
    "c=0\n",
    "for i in range(a,b+1):\n",
    "    c+=i*i\n",
    "print(c)"
   ]
  },
  {
   "cell_type": "markdown",
   "metadata": {},
   "source": [
    "# Python Program for cube sum of first n natural numbers\n"
   ]
  },
  {
   "cell_type": "code",
   "execution_count": 7,
   "metadata": {},
   "outputs": [
    {
     "name": "stdout",
     "output_type": "stream",
     "text": [
      "Enter the starting number:1\n",
      "Enter the ending number:10\n",
      "3025\n"
     ]
    }
   ],
   "source": [
    "a=int(input(\"Enter the starting number:\"))\n",
    "b=int(input(\"Enter the ending number:\"))\n",
    "\n",
    "c=0\n",
    "for i in range(a,b+1):\n",
    "    c+=i*i*i\n",
    "print(c)"
   ]
  },
  {
   "cell_type": "markdown",
   "metadata": {},
   "source": [
    "# Write a Python program that prints all the numbers from 0 to 6 except 3 and 6\n"
   ]
  },
  {
   "cell_type": "code",
   "execution_count": 6,
   "metadata": {},
   "outputs": [
    {
     "name": "stdout",
     "output_type": "stream",
     "text": [
      "Enter the starting number:0\n",
      "Enter the ending number:6\n",
      "0\n",
      "1\n",
      "2\n",
      "4\n",
      "5\n"
     ]
    }
   ],
   "source": [
    "a=int(input(\"Enter the starting number:\"))\n",
    "b=int(input(\"Enter the ending number:\"))\n",
    "\n",
    "for i in range(a,b+1):\n",
    "    if i!=3 and i!=6:\n",
    "          print(i)"
   ]
  },
  {
   "cell_type": "markdown",
   "metadata": {},
   "source": [
    "# Write a Python program which iterates the integers from 1 to 50. For multiples of three print \"Fizz\" instead of  the number and  for the multiples of five print \"Buzz\". For numbers which are multiples of both three and five print \"FizzBuzz\".\n"
   ]
  },
  {
   "cell_type": "code",
   "execution_count": 9,
   "metadata": {},
   "outputs": [
    {
     "name": "stdout",
     "output_type": "stream",
     "text": [
      "Enter the starting number:1\n",
      "Enter the ending number:50\n",
      "Fizz\n",
      "Buzz\n",
      "Fizz\n",
      "Fizz\n",
      "Buzz\n",
      "Fizz\n",
      "FizzBuzz\n",
      "Fizz\n",
      "Buzz\n",
      "Fizz\n",
      "Fizz\n",
      "Buzz\n",
      "Fizz\n",
      "FizzBuzz\n",
      "Fizz\n",
      "Buzz\n",
      "Fizz\n",
      "Fizz\n",
      "Buzz\n",
      "Fizz\n",
      "FizzBuzz\n",
      "Fizz\n",
      "Buzz\n"
     ]
    }
   ],
   "source": [
    "a=int(input(\"Enter the starting number:\"))\n",
    "b=int(input(\"Enter the ending number:\"))\n",
    "\n",
    "for i in range(a,b+1):\n",
    "   \n",
    "    if i%3==0 and i%5==0:\n",
    "        print(\"FizzBuzz\")\n",
    "    elif i%3==0:\n",
    "        print(\"Fizz\")\n",
    "    elif i%5==0:\n",
    "        print(\"Buzz\")\n",
    "        \n"
   ]
  },
  {
   "cell_type": "markdown",
   "metadata": {},
   "source": [
    "# Write a Python program to reverse a number\n"
   ]
  },
  {
   "cell_type": "code",
   "execution_count": 15,
   "metadata": {},
   "outputs": [
    {
     "name": "stdout",
     "output_type": "stream",
     "text": [
      "Enter the number:123456\n",
      "654321\n"
     ]
    }
   ],
   "source": [
    "num=int(input(\"Enter the number:\"))\n",
    "        \n",
    "reverse_num=0\n",
    "        \n",
    "while num>0:\n",
    "        rem=num%10\n",
    "        reverse_num=reverse_num*10 + rem\n",
    "        num=num//10\n",
    "print(reverse_num)\n",
    "        "
   ]
  },
  {
   "cell_type": "markdown",
   "metadata": {},
   "source": [
    "# Write a program to print n natural number in descending order using a while loop.\n"
   ]
  },
  {
   "cell_type": "code",
   "execution_count": 1,
   "metadata": {},
   "outputs": [
    {
     "name": "stdout",
     "output_type": "stream",
     "text": [
      "Enter the n number:10\n",
      "10\n",
      "9\n",
      "8\n",
      "7\n",
      "6\n",
      "5\n",
      "4\n",
      "3\n",
      "2\n",
      "1\n"
     ]
    }
   ],
   "source": [
    "n=int(input(\"Enter the n number:\"))\n",
    "i=n\n",
    "\n",
    "while i>=1:\n",
    "    print(i)\n",
    "    i-=1"
   ]
  },
  {
   "cell_type": "markdown",
   "metadata": {},
   "source": [
    "# Write a program to display the first 7 multiples of 7.\n"
   ]
  },
  {
   "cell_type": "code",
   "execution_count": 3,
   "metadata": {},
   "outputs": [
    {
     "name": "stdout",
     "output_type": "stream",
     "text": [
      "Enter the number:7\n",
      "7\n",
      "14\n",
      "21\n",
      "28\n",
      "35\n",
      "42\n",
      "49\n"
     ]
    }
   ],
   "source": [
    "n=int(input(\"Enter the number:\"))\n",
    "\n",
    "for i in range(1,8):\n",
    "    i=i*n\n",
    "    print(i)\n",
    "    \n",
    "    "
   ]
  },
  {
   "cell_type": "markdown",
   "metadata": {},
   "source": [
    "# Write a program that appends the square of each number to a new list.\n"
   ]
  },
  {
   "cell_type": "code",
   "execution_count": 22,
   "metadata": {},
   "outputs": [
    {
     "name": "stdout",
     "output_type": "stream",
     "text": [
      "[1, 4, 9, 16, 25]\n"
     ]
    }
   ],
   "source": [
    "a=[1,2,3,4,5]\n",
    "\n",
    "for i in range(len(a)):\n",
    "    a[i]=a[i]**2\n",
    "print(a)\n",
    "\n",
    "\n"
   ]
  },
  {
   "cell_type": "markdown",
   "metadata": {},
   "source": [
    "# Write a program to print multiplication table of a given number\n"
   ]
  },
  {
   "cell_type": "code",
   "execution_count": 24,
   "metadata": {},
   "outputs": [
    {
     "name": "stdout",
     "output_type": "stream",
     "text": [
      "Enter the number:3\n",
      "1 x 3 = 3\n",
      "2 x 3 = 6\n",
      "3 x 3 = 9\n",
      "4 x 3 = 12\n",
      "5 x 3 = 15\n",
      "6 x 3 = 18\n",
      "7 x 3 = 21\n",
      "8 x 3 = 24\n",
      "9 x 3 = 27\n",
      "10 x 3 = 30\n"
     ]
    }
   ],
   "source": [
    "n=int(input(\"Enter the number:\"))\n",
    "\n",
    "for i in range(1,11):\n",
    "   \n",
    "    print(i,\"x\",n,\"=\",n*i)"
   ]
  },
  {
   "cell_type": "markdown",
   "metadata": {},
   "source": [
    "# Count the total number of digits in a number\n"
   ]
  },
  {
   "cell_type": "code",
   "execution_count": 4,
   "metadata": {},
   "outputs": [
    {
     "name": "stdout",
     "output_type": "stream",
     "text": [
      "enter the start number:1\n",
      "enter the end number:10\n",
      "10\n"
     ]
    }
   ],
   "source": [
    "a=int(input(\"enter the start number:\"))\n",
    "b=int(input(\"enter the end number:\"))\n",
    "\n",
    "c=0\n",
    "for i in range(a,b+1):\n",
    "    c+=1\n",
    "print(c)\n",
    "    "
   ]
  },
  {
   "cell_type": "markdown",
   "metadata": {},
   "source": [
    "# Write a program to display product of the digits of a number accepted from the user.\n"
   ]
  },
  {
   "cell_type": "code",
   "execution_count": 8,
   "metadata": {},
   "outputs": [
    {
     "name": "stdout",
     "output_type": "stream",
     "text": [
      "enter the start number:1\n",
      "enter the end number:10\n",
      "3628800\n"
     ]
    }
   ],
   "source": [
    "a=int(input(\"enter the start number:\"))\n",
    "b=int(input(\"enter the end number:\"))\n",
    "\n",
    "c=1\n",
    "for i in range(a,b+1):\n",
    "    c*=i\n",
    "print(c)"
   ]
  },
  {
   "cell_type": "markdown",
   "metadata": {},
   "source": [
    "# Write a program to find the sum of the digits of a number accepted from user\n"
   ]
  },
  {
   "cell_type": "code",
   "execution_count": 9,
   "metadata": {},
   "outputs": [
    {
     "name": "stdout",
     "output_type": "stream",
     "text": [
      "enter the start number:1\n",
      "enter the end number:10\n",
      "55\n"
     ]
    }
   ],
   "source": [
    "a=int(input(\"enter the start number:\"))\n",
    "b=int(input(\"enter the end number:\"))\n",
    "\n",
    "c=0\n",
    "for i in range(a,b+1):\n",
    "    c+=i\n",
    "print(c)"
   ]
  },
  {
   "cell_type": "markdown",
   "metadata": {},
   "source": [
    "# Write a program to display sum of odd numbers and even numbers that fall between 12 and 37\n"
   ]
  },
  {
   "cell_type": "code",
   "execution_count": 15,
   "metadata": {},
   "outputs": [
    {
     "name": "stdout",
     "output_type": "stream",
     "text": [
      "enter the start number:12\n",
      "enter the end number:37\n",
      "Sum of even numbers: 312\n",
      "Sum of odd numbers: 325\n"
     ]
    }
   ],
   "source": [
    "a=int(input(\"enter the start number:\"))\n",
    "b=int(input(\"enter the end number:\"))\n",
    "\n",
    "even=0\n",
    "odd=0\n",
    "for i in range(a,b+1):\n",
    "    if i%2==0:\n",
    "        even+=i\n",
    "    else:\n",
    "        odd+=i\n",
    "        \n",
    "print(\"Sum of even numbers:\",even)\n",
    "print(\"Sum of odd numbers:\",odd)\n"
   ]
  },
  {
   "attachments": {},
   "cell_type": "markdown",
   "metadata": {},
   "source": [
    "# Write a program to display all the numbers which are divisible by 11 but not by 2 between 100 and 500.\n",
    "\n"
   ]
  },
  {
   "cell_type": "code",
   "execution_count": 16,
   "metadata": {},
   "outputs": [
    {
     "name": "stdout",
     "output_type": "stream",
     "text": [
      "enter the start number:100\n",
      "enter the end number:500\n",
      "121\n",
      "143\n",
      "165\n",
      "187\n",
      "209\n",
      "231\n",
      "253\n",
      "275\n",
      "297\n",
      "319\n",
      "341\n",
      "363\n",
      "385\n",
      "407\n",
      "429\n",
      "451\n",
      "473\n",
      "495\n"
     ]
    }
   ],
   "source": [
    "a=int(input(\"enter the start number:\"))\n",
    "b=int(input(\"enter the end number:\"))\n",
    "\n",
    "for i in range(a,b+1):\n",
    "    if i%11==0 and i%2!=0:\n",
    "        print(i)"
   ]
  },
  {
   "cell_type": "markdown",
   "metadata": {},
   "source": [
    "# Write a program to print numbers from 1 to 20 except multiple of 2 & 3.\n"
   ]
  },
  {
   "cell_type": "code",
   "execution_count": 17,
   "metadata": {},
   "outputs": [
    {
     "name": "stdout",
     "output_type": "stream",
     "text": [
      "enter the start number:1\n",
      "enter the end number:20\n",
      "1\n",
      "5\n",
      "7\n",
      "11\n",
      "13\n",
      "17\n",
      "19\n"
     ]
    }
   ],
   "source": [
    "a=int(input(\"enter the start number:\"))\n",
    "b=int(input(\"enter the end number:\"))\n",
    "\n",
    "for i in range(a,b+1):\n",
    "    if i%2!=0 and i%3!=0:\n",
    "        print(i)"
   ]
  },
  {
   "cell_type": "markdown",
   "metadata": {},
   "source": [
    "# Write a Python Program that will print prime numbers within a Given range\n"
   ]
  },
  {
   "cell_type": "code",
   "execution_count": 27,
   "metadata": {},
   "outputs": [
    {
     "name": "stdout",
     "output_type": "stream",
     "text": [
      "enter the start number:1\n",
      "enter the end number:20\n",
      "1\n",
      "2\n",
      "3\n",
      "5\n",
      "7\n",
      "11\n",
      "13\n",
      "17\n",
      "19\n"
     ]
    }
   ],
   "source": [
    "a=int(input(\"enter the start number:\"))\n",
    "b=int(input(\"enter the end number:\"))\n",
    "\n",
    "for num in range(a,b+1):\n",
    "    if i==0 or i==1:\n",
    "         continue\n",
    "    else:\n",
    "        for i in range(2,num):\n",
    "            if num%i==0:\n",
    "                break\n",
    "        else:\n",
    "            print(num)"
   ]
  },
  {
   "cell_type": "markdown",
   "metadata": {},
   "source": [
    "# Write a program to accept a number and check whether it is a perfect number or not.\n"
   ]
  },
  {
   "cell_type": "code",
   "execution_count": 29,
   "metadata": {},
   "outputs": [
    {
     "name": "stdout",
     "output_type": "stream",
     "text": [
      "Enter the number:6\n",
      "6 is a perfect number.\n"
     ]
    }
   ],
   "source": [
    "number=int(input(\"Enter the number:\"))\n",
    "\n",
    "sum=0\n",
    "for i in range(1,number):\n",
    "    if number%i==0:\n",
    "        sum+=i\n",
    "\n",
    "if sum==number:\n",
    "    print(number,\"is a perfect number.\")\n",
    "else:\n",
    "    print(number,\"is not a perfect number.\")"
   ]
  },
  {
   "cell_type": "markdown",
   "metadata": {},
   "source": [
    "# Write a program to accept a number and check whether it is a strong number or not.\n"
   ]
  },
  {
   "cell_type": "code",
   "execution_count": 30,
   "metadata": {},
   "outputs": [
    {
     "name": "stdout",
     "output_type": "stream",
     "text": [
      "Enter the Number145\n",
      "Reminder value is 5\n",
      "Sum is 120\n",
      "num is  145\n",
      "Reminder value is 4\n",
      "Sum is 144\n",
      "num is  14\n",
      "Reminder value is 1\n",
      "Sum is 145\n",
      "num is  1\n",
      "0\n",
      "Original number is : 145\n",
      "Strong number\n"
     ]
    }
   ],
   "source": [
    "import math\n",
    "num=int(input(\"Enter the Number\"))\n",
    "sum=0\n",
    "m=num\n",
    "while num!=0:\n",
    "     rem=num%10 \n",
    "     print(\"Reminder value is\",rem)\n",
    "     sum=sum+math.factorial(rem)\n",
    "     print(\"Sum is\",sum)\n",
    "     print(\"num is \",num)\n",
    "     num=num//10\n",
    "print(num)\n",
    "print(\"Original number is :\",m)\n",
    "if m==sum:\n",
    "     print(\"Strong number\")\n",
    "else:\n",
    "     print(\"Not strong number\")\n"
   ]
  },
  {
   "cell_type": "code",
   "execution_count": null,
   "metadata": {},
   "outputs": [],
   "source": []
  }
 ],
 "metadata": {
  "kernelspec": {
   "display_name": "Python 3",
   "language": "python",
   "name": "python3"
  },
  "language_info": {
   "codemirror_mode": {
    "name": "ipython",
    "version": 3
   },
   "file_extension": ".py",
   "mimetype": "text/x-python",
   "name": "python",
   "nbconvert_exporter": "python",
   "pygments_lexer": "ipython3",
   "version": "3.7.6"
  }
 },
 "nbformat": 4,
 "nbformat_minor": 4
}
