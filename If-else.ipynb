{
 "cells": [
  {
   "cell_type": "markdown",
   "metadata": {},
   "source": [
    "# Maximum of two numbers in Python"
   ]
  },
  {
   "cell_type": "code",
   "execution_count": 10,
   "metadata": {},
   "outputs": [
    {
     "name": "stdout",
     "output_type": "stream",
     "text": [
      "Enter the number:10\n",
      "Enter the number:5\n",
      "10 is greater than 5\n"
     ]
    }
   ],
   "source": [
    "num_1 = int(input(\"Enter the number:\"))\n",
    "num_2 = int(input(\"Enter the number:\"))\n",
    "\n",
    "if num_1>num_2:\n",
    "    print(num_1 ,\"is greater than\",num_2)\n",
    "else:\n",
    "    print(num_2,\"is greater than\", num_1)"
   ]
  },
  {
   "cell_type": "markdown",
   "metadata": {},
   "source": [
    "# Write a Python Program for Generating a Report Card"
   ]
  },
  {
   "cell_type": "code",
   "execution_count": 24,
   "metadata": {},
   "outputs": [
    {
     "name": "stdout",
     "output_type": "stream",
     "text": [
      "Average: 93.6\n",
      "A grade\n"
     ]
    }
   ],
   "source": [
    "sub_1=95\n",
    "sub_2=90\n",
    "sub_3=85\n",
    "sub_4=100\n",
    "sub_5=98\n",
    "total_marks= sub_1 + sub_2 + sub_3 + sub_4  +sub_5\n",
    "average = total_marks/5\n",
    "print(\"Average:\",average)\n",
    "if average>=90  and average<=100:\n",
    "    print(\"A grade\")\n",
    "elif average>=80  and average<=90:\n",
    "    print(\"B grade\")\n",
    "elif average>=70  and average<=80:\n",
    "    print(\"C grade\")\n",
    "elif average>=60  and average<=70:\n",
    "    print(\"D grade\")\n",
    "elif average>=50  and average<=60:\n",
    "    print(\"E grade\")\n",
    "else:\n",
    "    print(\"Fail\")"
   ]
  },
  {
   "cell_type": "markdown",
   "metadata": {},
   "source": [
    "# Python program For Checking Leap Year or Not\n"
   ]
  },
  {
   "cell_type": "code",
   "execution_count": 11,
   "metadata": {},
   "outputs": [
    {
     "name": "stdout",
     "output_type": "stream",
     "text": [
      "Enter the year:2000\n",
      "2000 is a leap year.\n"
     ]
    }
   ],
   "source": [
    "year = int(input(\"Enter the year:\"))\n",
    "\n",
    "if year%4 ==0:\n",
    "    print(year,\"is a leap year.\")\n",
    "else:\n",
    "    print(year,\"is not a leap year.\")"
   ]
  },
  {
   "cell_type": "markdown",
   "metadata": {},
   "source": [
    "# Python Program to Check weather a candidate Eligible for Vote or not\n"
   ]
  },
  {
   "cell_type": "code",
   "execution_count": 15,
   "metadata": {},
   "outputs": [
    {
     "name": "stdout",
     "output_type": "stream",
     "text": [
      "Enter your age:22\n",
      "You are eligible for vote.\n"
     ]
    }
   ],
   "source": [
    "age=int(input(\"Enter your age:\"))\n",
    "\n",
    "if age>=18:\n",
    "    print(\"You are eligible for vote.\")\n",
    "else:\n",
    "    print(\"You are not eligible for vote.\")"
   ]
  },
  {
   "cell_type": "markdown",
   "metadata": {},
   "source": [
    "# Python program to check weather Given Number is Divisible by 7 or Not\n"
   ]
  },
  {
   "cell_type": "code",
   "execution_count": 17,
   "metadata": {},
   "outputs": [
    {
     "name": "stdout",
     "output_type": "stream",
     "text": [
      "Enter the number:49\n",
      "49 is divisible by 7.\n"
     ]
    }
   ],
   "source": [
    "num = int(input(\"Enter the number:\"))\n",
    "\n",
    "if num%7==0:\n",
    "    print(num,\"is divisible by 7.\")\n",
    "else:\n",
    "    print(num,\"is not divisible by 7.\")"
   ]
  },
  {
   "cell_type": "markdown",
   "metadata": {},
   "source": [
    "# Python Program to check weather a given number is odd or Even\n"
   ]
  },
  {
   "cell_type": "code",
   "execution_count": 21,
   "metadata": {},
   "outputs": [
    {
     "name": "stdout",
     "output_type": "stream",
     "text": [
      "enter the number:4\n",
      "4  is a even number.\n"
     ]
    }
   ],
   "source": [
    "number=int(input(\"enter the number:\"))\n",
    "\n",
    "if number%2==0:\n",
    "    print(number,\" is a even number.\")\n",
    "elif number%2!=0:\n",
    "    print(number,\" is a odd number. \")\n",
    "else:\n",
    "    pass\n"
   ]
  },
  {
   "cell_type": "markdown",
   "metadata": {},
   "source": [
    "# Write a program to display \"Hello\" if a number entered by user is a multiple of five , otherwise print \"Bye\".\n"
   ]
  },
  {
   "cell_type": "code",
   "execution_count": 25,
   "metadata": {},
   "outputs": [
    {
     "name": "stdout",
     "output_type": "stream",
     "text": [
      "Enter the number:55\n",
      "Hello\n"
     ]
    }
   ],
   "source": [
    "num=int(input(\"Enter the number:\"))\n",
    "\n",
    "if num%5==0:\n",
    "    print(\"Hello\")\n",
    "else:\n",
    "    print(\"Bye\")"
   ]
  },
  {
   "cell_type": "markdown",
   "metadata": {},
   "source": [
    "# Write a program to check whether the last digit of a number( entered by user ) is divisible by 3 or not.\n"
   ]
  },
  {
   "cell_type": "code",
   "execution_count": 30,
   "metadata": {},
   "outputs": [
    {
     "name": "stdout",
     "output_type": "stream",
     "text": [
      "Enter the number:99\n",
      "Last digit of 99 is divisible by 3.\n"
     ]
    }
   ],
   "source": [
    "num= int(input(\"Enter the number:\"))\n",
    "last_digit= num%10\n",
    "\n",
    "if last_digit%3==0:\n",
    "    print(\"Last digit of\",num,\"is divisible by 3.\")\n",
    "else:\n",
    "    print(\"Last digit of\",num,\"is not divisible by 3.\")"
   ]
  },
  {
   "cell_type": "markdown",
   "metadata": {},
   "source": [
    "# \"Write a program to accept the cost price of a bike and display the road tax to be paid according to the following criteria :\n",
    " Cost price (in Rs) Tax\n",
    " > 100000 15 %\n",
    " > 50000 and <= 100000 10%\n",
    " <= 50000 5%\"\n"
   ]
  },
  {
   "cell_type": "code",
   "execution_count": 31,
   "metadata": {},
   "outputs": [
    {
     "name": "stdout",
     "output_type": "stream",
     "text": [
      "Enter the price:200000\n",
      "Enter the cost:50000\n",
      "Road tax is 15%.\n",
      "The road tax for 15% is 7500.0\n"
     ]
    }
   ],
   "source": [
    "cost_price=int(input(\"Enter the price:\"))\n",
    "cost_vehicle=int(input(\"Enter the cost:\"))\n",
    "\n",
    "if cost_price>100000:\n",
    "    print(\"Road tax is 15%.\")\n",
    "    x=(15/100)*cost_vehicle\n",
    "    print(\"The road tax for 15% is\",x)\n",
    "elif cost_price>50000 and cost_price<=100000:\n",
    "    print(\"Road tax is 10%.\")\n",
    "    y=(10/100)*cost_vehicle\n",
    "    print(\"The road tax for 10% is\",y)\n",
    "elif cost_price<=50000:\n",
    "    print(\"Road tax is 5%.\")\n",
    "    z=(5/100)*cost_vehicle\n",
    "    print(\"The road tax for 5% is\",z)\n",
    "else: \n",
    "    pass\n",
    "    "
   ]
  },
  {
   "cell_type": "markdown",
   "metadata": {},
   "source": [
    "# Write a program to accept a number from 1 to 7 and display the name of the day like 1 for Sunday , 2 for Monday and so on.\n"
   ]
  },
  {
   "cell_type": "code",
   "execution_count": 2,
   "metadata": {},
   "outputs": [
    {
     "name": "stdout",
     "output_type": "stream",
     "text": [
      "Enter the day:FRIDay\n",
      "6\n"
     ]
    }
   ],
   "source": [
    "day=input(\"Enter the day:\")\n",
    "lowcase=day.lower()\n",
    "\n",
    "\n",
    "if lowcase==\"sunday\":\n",
    "    print(\"1\")\n",
    "elif lowcase==\"monday\":\n",
    "    print(\"2\")\n",
    "elif lowcase==\"tuesday\":\n",
    "    print(\"3\")\n",
    "elif lowcase==\"wednesday\":\n",
    "    print(\"4\")\n",
    "elif lowcase==\"thursday\":\n",
    "    print(\"5\")\n",
    "elif lowcase==\"friday\":\n",
    "    print(\"6\")\n",
    "elif lowcase==\"saturday\":\n",
    "    print(\"7\")\n",
    "else:\n",
    "    print(\"0\")"
   ]
  },
  {
   "cell_type": "markdown",
   "metadata": {},
   "source": [
    "# Write a program to accept a number from 1 to 12 and display name of the month and days in that month like 1 for January and number of days 31 and so on\n"
   ]
  },
  {
   "cell_type": "code",
   "execution_count": 5,
   "metadata": {},
   "outputs": [
    {
     "name": "stdout",
     "output_type": "stream",
     "text": [
      "Enter the number from 1 to 12:7\n",
      "July\n",
      "Number of days is 31.\n"
     ]
    }
   ],
   "source": [
    "number=int(input(\"Enter the number from 1 to 12:\"))\n",
    "\n",
    "if number==1:\n",
    "    print(\"January\")\n",
    "    print(\"Number of days is 31.\")\n",
    "elif number==2:\n",
    "    print(\"February\")\n",
    "    print(\"Number of days is 28.\")\n",
    "elif number==3:\n",
    "    print(\"March\")\n",
    "    print(\"Number of days is 31.\")\n",
    "elif number==4:\n",
    "    print(\"April\")\n",
    "    print(\"Number of days is 30.\")\n",
    "elif number==5:\n",
    "    print(\"May\")\n",
    "    print(\"Number of days is 31.\")\n",
    "elif number==6:\n",
    "    print(\"June\")\n",
    "    print(\"Number of days is 30.\")\n",
    "elif number==7:\n",
    "    print(\"July\")\n",
    "    print(\"Number of days is 31.\")\n",
    "elif number==8:\n",
    "    print(\"August\")\n",
    "    print(\"Number of days is 31.\")\n",
    "elif number==9:\n",
    "    print(\"September\")\n",
    "    print(\"Number of days is 30.\")\n",
    "elif number==10:\n",
    "    print(\"October\")\n",
    "    print(\"Number of days is 31.\")\n",
    "elif number==11:\n",
    "    print(\"November\")\n",
    "    print(\"Number of days is 30.\")\n",
    "elif number==12:\n",
    "    print(\"December\")\n",
    "    print(\"Number of days is 31.\")\n",
    "else:\n",
    "    pass\n"
   ]
  },
  {
   "cell_type": "markdown",
   "metadata": {},
   "source": [
    "# \"Accept any city from the user and display monument of that city.\n",
    " City Monument\n",
    " Delhi Red Fort\n",
    " Agra Taj Mahal\n",
    " Jaipur Jal Mahal\"\n"
   ]
  },
  {
   "cell_type": "code",
   "execution_count": 10,
   "metadata": {},
   "outputs": [
    {
     "name": "stdout",
     "output_type": "stream",
     "text": [
      "Enter the any city from Delhi, Agra, Jaipur\n",
      "Enter the city :AGRa\n",
      "Taj Mahal\n"
     ]
    }
   ],
   "source": [
    "city=(\"Enter the any city from Delhi, Agra, Jaipur\")\n",
    "print(city)\n",
    "\n",
    "user_city=input(\"Enter the city :\")\n",
    "lowcase=user_city.lower()\n",
    "\n",
    "if lowcase==\"delhi\":\n",
    "    print(\"Red Fort\")\n",
    "elif lowcase==\"agra\":\n",
    "    print(\"Taj Mahal\")\n",
    "elif lowcase==\"jaipur\":\n",
    "    print(\"Jal Mahal\")\n",
    "else:\n",
    "    print(\"Wrong city\")"
   ]
  },
  {
   "cell_type": "markdown",
   "metadata": {},
   "source": [
    "# Write a program to check whether a person is senior citizen or not.\n"
   ]
  },
  {
   "cell_type": "code",
   "execution_count": 14,
   "metadata": {},
   "outputs": [
    {
     "name": "stdout",
     "output_type": "stream",
     "text": [
      "Enter your age:90\n",
      "You are a senior citizen.\n"
     ]
    }
   ],
   "source": [
    "citizen_age=int(input(\"Enter your age:\"))\n",
    "\n",
    "if citizen_age>=60:\n",
    "    print(\"You are a senior citizen.\")\n",
    "else:\n",
    "    print(\"You are not a senior citizen.\")"
   ]
  },
  {
   "cell_type": "markdown",
   "metadata": {},
   "source": [
    "# Write a program to find the lowest number out of two numbers excepted from user.\n"
   ]
  },
  {
   "cell_type": "code",
   "execution_count": 15,
   "metadata": {},
   "outputs": [
    {
     "name": "stdout",
     "output_type": "stream",
     "text": [
      "Enter the number:10\n",
      "Enter the number:60\n",
      "p is less than q.\n"
     ]
    }
   ],
   "source": [
    "p=int(input(\"Enter the number:\"))\n",
    "q=int(input(\"Enter the number:\"))\n",
    "\n",
    "if p<q:\n",
    "    print(\"p is less than q.\")\n",
    "else:\n",
    "    print(\"q is less than p.\")"
   ]
  },
  {
   "cell_type": "markdown",
   "metadata": {},
   "source": [
    "# Write a program to find the largest number out of two numbers excepted from user.\n"
   ]
  },
  {
   "cell_type": "code",
   "execution_count": 17,
   "metadata": {},
   "outputs": [
    {
     "name": "stdout",
     "output_type": "stream",
     "text": [
      "Enter the number:50\n",
      "Enter the number:80\n",
      "q is greater than p.\n"
     ]
    }
   ],
   "source": [
    "p=int(input(\"Enter the number:\"))\n",
    "q=int(input(\"Enter the number:\"))\n",
    "\n",
    "if p>q:\n",
    "    print(\"p is greater than q.\")\n",
    "else:\n",
    "    print(\"q is greater than p.\")"
   ]
  },
  {
   "cell_type": "markdown",
   "metadata": {},
   "source": [
    "# Write a program to whether a number (accepted from user) is divisible by 2 and 3 both.\n"
   ]
  },
  {
   "cell_type": "code",
   "execution_count": 18,
   "metadata": {},
   "outputs": [
    {
     "name": "stdout",
     "output_type": "stream",
     "text": [
      "Enter the number:6\n",
      "6 is divisible by both 2 and 3.\n"
     ]
    }
   ],
   "source": [
    "num=int(input(\"Enter the number:\"))\n",
    "\n",
    "if num%2==0 and num%3==0:\n",
    "    print(num,\"is divisible by both 2 and 3.\")"
   ]
  },
  {
   "cell_type": "markdown",
   "metadata": {},
   "source": [
    "# Write a program to find the largest number out of three numbers excepted from user.\n"
   ]
  },
  {
   "cell_type": "code",
   "execution_count": 20,
   "metadata": {},
   "outputs": [
    {
     "name": "stdout",
     "output_type": "stream",
     "text": [
      "Enter the number:30\n",
      "Enter the number:50\n",
      "Enter the number:70\n",
      "z is greater.\n"
     ]
    }
   ],
   "source": [
    "x=int(input(\"Enter the number:\"))\n",
    "y=int(input(\"Enter the number:\"))\n",
    "z=int(input(\"Enter the number:\"))\n",
    "\n",
    "if x>y and x>z:\n",
    "    print(\"x is greater.\")\n",
    "elif y>x and y>z:\n",
    "    print(\"y is greater.\")\n",
    "elif z>x and z>y:\n",
    "    print(\"z is greater.\")"
   ]
  },
  {
   "cell_type": "markdown",
   "metadata": {},
   "source": [
    "# Write a program to check a character is vowel or not.\n"
   ]
  },
  {
   "cell_type": "code",
   "execution_count": 23,
   "metadata": {},
   "outputs": [
    {
     "name": "stdout",
     "output_type": "stream",
     "text": [
      "Enter the character:b\n",
      "Character is not a vowel.\n"
     ]
    }
   ],
   "source": [
    "alphabet=input(\"Enter the character:\")\n",
    "vowels=(\"a,e,i,o,u\")\n",
    "\n",
    "if alphabet in vowels:\n",
    "    print(\"Character is a vowel.\")\n",
    "else:\n",
    "    print(\"Character is not a vowel.\")\n",
    "\n"
   ]
  },
  {
   "cell_type": "code",
   "execution_count": null,
   "metadata": {},
   "outputs": [],
   "source": []
  },
  {
   "cell_type": "code",
   "execution_count": null,
   "metadata": {},
   "outputs": [],
   "source": []
  }
 ],
 "metadata": {
  "kernelspec": {
   "display_name": "Python 3",
   "language": "python",
   "name": "python3"
  },
  "language_info": {
   "codemirror_mode": {
    "name": "ipython",
    "version": 3
   },
   "file_extension": ".py",
   "mimetype": "text/x-python",
   "name": "python",
   "nbconvert_exporter": "python",
   "pygments_lexer": "ipython3",
   "version": "3.7.6"
  }
 },
 "nbformat": 4,
 "nbformat_minor": 4
}
