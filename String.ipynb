{
 "cells": [
  {
   "cell_type": "markdown",
   "metadata": {},
   "source": [
    "# Reverse words in a given String in Python"
   ]
  },
  {
   "cell_type": "code",
   "execution_count": 1,
   "metadata": {},
   "outputs": [
    {
     "name": "stdout",
     "output_type": "stream",
     "text": [
      "Enter the name:Brundha\n",
      "ahdnurB \n"
     ]
    }
   ],
   "source": [
    "name=input(\"Enter the name:\")\n",
    "reverse_name=\" \"\n",
    "for i in name:\n",
    "    reverse_name=i+reverse_name\n",
    "print(reverse_name)"
   ]
  },
  {
   "cell_type": "markdown",
   "metadata": {},
   "source": [
    "# Check weather Given the words are anangram or not\n"
   ]
  },
  {
   "cell_type": "code",
   "execution_count": 1,
   "metadata": {},
   "outputs": [
    {
     "name": "stdout",
     "output_type": "stream",
     "text": [
      "Enter the string:Listen\n",
      "Enter the string2:Silent\n",
      "Yes it is an anangram.\n"
     ]
    }
   ],
   "source": [
    "s1=input(\"Enter the string:\").lower()\n",
    "s2=input(\"Enter the string2:\").lower()\n",
    "\n",
    "if sorted(s1)==sorted(s2):\n",
    "    print(\"Yes it is an anangram.\")\n",
    "else:\n",
    "    print(\"Not an anangram.\")"
   ]
  },
  {
   "cell_type": "markdown",
   "metadata": {},
   "source": [
    "# Write a Python program to calculate the length of a string\n"
   ]
  },
  {
   "cell_type": "code",
   "execution_count": 3,
   "metadata": {},
   "outputs": [
    {
     "name": "stdout",
     "output_type": "stream",
     "text": [
      "Enter a word:BeaUtiful\n",
      "9\n"
     ]
    }
   ],
   "source": [
    "string=input(\"Enter a word:\").lower()\n",
    "s=len(string)\n",
    "print(s)"
   ]
  },
  {
   "cell_type": "markdown",
   "metadata": {},
   "source": [
    "# Write a Python program to get a string made of the first 2 and the last 2 chars from a given a string\n"
   ]
  },
  {
   "cell_type": "code",
   "execution_count": 5,
   "metadata": {},
   "outputs": [
    {
     "name": "stdout",
     "output_type": "stream",
     "text": [
      "Enter a word:Kadal\n",
      "kaal\n"
     ]
    }
   ],
   "source": [
    "string=input(\"Enter a word:\").lower()\n",
    "\n",
    "count=0\n",
    "for i in string:\n",
    "    count=count+1\n",
    "\n",
    "new_str=string[0:2]+string[count-2:count]\n",
    "print(new_str)"
   ]
  },
  {
   "cell_type": "markdown",
   "metadata": {},
   "source": [
    "# Write a Python program to remove the nth index character from a nonempty string\n"
   ]
  },
  {
   "cell_type": "code",
   "execution_count": 10,
   "metadata": {},
   "outputs": [
    {
     "name": "stdout",
     "output_type": "stream",
     "text": [
      "Enter a word:blue\n",
      "Enter the nth index:3\n",
      "new_String: blu\n"
     ]
    }
   ],
   "source": [
    "string=input(\"Enter a word:\")\n",
    "n=int(input(\"Enter the nth index:\"))\n",
    "\n",
    "first=string[:n]\n",
    "last=string[n+1:]\n",
    "\n",
    "print(\"new_String:\",first+last)"
   ]
  },
  {
   "cell_type": "markdown",
   "metadata": {},
   "source": [
    "# Write a Python program to change a given string to a new string where the first and last chars have been exchanged\n"
   ]
  },
  {
   "cell_type": "code",
   "execution_count": 9,
   "metadata": {},
   "outputs": [
    {
     "name": "stdout",
     "output_type": "stream",
     "text": [
      "Enter a word:hello\n"
     ]
    },
    {
     "data": {
      "text/plain": [
       "'oellh'"
      ]
     },
     "execution_count": 9,
     "metadata": {},
     "output_type": "execute_result"
    }
   ],
   "source": [
    "string=input(\"Enter a word:\")\n",
    "\n",
    "s=string[-1:]+string[1:-1]+string[:1]\n",
    "s\n"
   ]
  },
  {
   "cell_type": "markdown",
   "metadata": {},
   "source": [
    "# Write a Python program to remove the characters which have odd index values of a given string.\n"
   ]
  },
  {
   "cell_type": "code",
   "execution_count": 5,
   "metadata": {},
   "outputs": [
    {
     "name": "stdout",
     "output_type": "stream",
     "text": [
      "Enter a word:hello\n",
      "String ans: hlo\n"
     ]
    }
   ],
   "source": [
    "string=input(\"Enter a word:\")\n",
    "\n",
    "s1=\"\"\n",
    "for i in range(len(string)):\n",
    "    if i%2==0:\n",
    "        s1= s1 + string[i]\n",
    "print(\"String ans:\",s1)"
   ]
  },
  {
   "cell_type": "markdown",
   "metadata": {},
   "source": [
    "# Write a Python script that takes input from the user and displays that input back in upper and lower cases\n"
   ]
  },
  {
   "cell_type": "code",
   "execution_count": 6,
   "metadata": {},
   "outputs": [
    {
     "name": "stdout",
     "output_type": "stream",
     "text": [
      "Enter a word:Hello\n",
      "HELLO\n",
      "hello\n"
     ]
    }
   ],
   "source": [
    "string=input(\"Enter a word:\")\n",
    "\n",
    "s1=string.upper()\n",
    "s2=string.lower()\n",
    "\n",
    "print(s1)\n",
    "print(s2)"
   ]
  },
  {
   "cell_type": "markdown",
   "metadata": {},
   "source": [
    "# Write a Python function to reverses a string if it's length is a multiple of 4\n"
   ]
  },
  {
   "cell_type": "code",
   "execution_count": 14,
   "metadata": {},
   "outputs": [
    {
     "name": "stdout",
     "output_type": "stream",
     "text": [
      "Enter a word:hlo\n",
      "hlo\n"
     ]
    }
   ],
   "source": [
    "string=input(\"Enter a word:\")\n",
    "\n",
    "if (len(string)%4==0):\n",
    "        s=string[::-1]\n",
    "        print(s)\n",
    "else:\n",
    "    print(string)\n"
   ]
  },
  {
   "cell_type": "markdown",
   "metadata": {},
   "source": [
    "# Write a Python program to check whether a string starts with specified characters\n"
   ]
  },
  {
   "cell_type": "code",
   "execution_count": 36,
   "metadata": {},
   "outputs": [
    {
     "name": "stdout",
     "output_type": "stream",
     "text": [
      "enter a word:Help\n",
      "True\n"
     ]
    }
   ],
   "source": [
    "string=input(\"enter a word:\").lower()\n",
    "\n",
    "print(string.startswith(\"he\"))\n",
    "        "
   ]
  },
  {
   "cell_type": "markdown",
   "metadata": {},
   "source": [
    "# Write a Python program to print the index of the character in a string\n"
   ]
  },
  {
   "cell_type": "code",
   "execution_count": 39,
   "metadata": {},
   "outputs": [
    {
     "name": "stdout",
     "output_type": "stream",
     "text": [
      "4\n"
     ]
    }
   ],
   "source": [
    "string=\"Umbrella\"\n",
    "s=string.index(\"e\")\n",
    "print(s)"
   ]
  },
  {
   "cell_type": "markdown",
   "metadata": {},
   "source": [
    "# Write a Python program to check whether a string contains all letters of the alphabet\n"
   ]
  },
  {
   "cell_type": "code",
   "execution_count": 1,
   "metadata": {},
   "outputs": [
    {
     "name": "stdout",
     "output_type": "stream",
     "text": [
      "enter a word:abcdefghijklmnopqrstuvwxyz\n",
      "All alphabets are present\n"
     ]
    }
   ],
   "source": [
    "alphabet=\"abcdefghijklmnopqrstuvwxyz\"\n",
    "string=input(\"enter a word:\").lower()\n",
    "\n",
    "if string==alphabet:\n",
    "    print(\"All alphabets are present\")\n",
    "else:\n",
    "    print(\"All alphabets are  not  present\")\n",
    "        "
   ]
  },
  {
   "cell_type": "markdown",
   "metadata": {},
   "source": [
    "# Write a Python program to convert a given string into a list of words\n"
   ]
  },
  {
   "cell_type": "code",
   "execution_count": 4,
   "metadata": {},
   "outputs": [
    {
     "name": "stdout",
     "output_type": "stream",
     "text": [
      "enter a word:i am a girl\n",
      "['i', 'am', 'a', 'girl']\n"
     ]
    }
   ],
   "source": [
    "string=input(\"enter a word:\").lower()\n",
    "s=(string).split()\n",
    "s1=list(s)\n",
    "print(s1)"
   ]
  },
  {
   "cell_type": "markdown",
   "metadata": {},
   "source": [
    "# Write a Python program to lowercase first n characters in a string.\n"
   ]
  },
  {
   "cell_type": "code",
   "execution_count": 2,
   "metadata": {},
   "outputs": [
    {
     "name": "stdout",
     "output_type": "stream",
     "text": [
      "enter a word:WELCome\n",
      "welcome\n"
     ]
    }
   ],
   "source": [
    "string=input(\"enter a word:\")\n",
    "\n",
    "s=string[0].lower() + string[1:].lower()\n",
    "\n",
    "print(s)"
   ]
  },
  {
   "cell_type": "markdown",
   "metadata": {},
   "source": [
    "# Write a Python program to count and display the vowels of a given text\n"
   ]
  },
  {
   "cell_type": "code",
   "execution_count": 20,
   "metadata": {},
   "outputs": [
    {
     "name": "stdout",
     "output_type": "stream",
     "text": [
      "enter a word:beauty\n",
      "No.of vowels present: 3\n",
      "Vowels present: eau\n"
     ]
    }
   ],
   "source": [
    "vowels=\"aeiou\"\n",
    "string=input(\"enter a word:\")\n",
    "\n",
    "count=0\n",
    "vow=\"\"\n",
    "for i in string:\n",
    "    if i in vowels:\n",
    "        count+=1\n",
    "        vow+=i\n",
    "print(\"No.of vowels present:\",count)\n",
    "print(\"Vowels present:\",vow)   "
   ]
  },
  {
   "cell_type": "markdown",
   "metadata": {},
   "source": [
    "# Write a Python program to remove spaces from a given string\n"
   ]
  },
  {
   "cell_type": "code",
   "execution_count": 16,
   "metadata": {},
   "outputs": [
    {
     "name": "stdout",
     "output_type": "stream",
     "text": [
      "The dog jumped up and down\n"
     ]
    }
   ],
   "source": [
    "string=\"    The dog jumped up and down\"\n",
    "s=string.strip()\n",
    "print(s)"
   ]
  },
  {
   "cell_type": "markdown",
   "metadata": {},
   "source": [
    "# Write a Python program to remove duplicate characters of a given string\n"
   ]
  },
  {
   "cell_type": "code",
   "execution_count": 18,
   "metadata": {},
   "outputs": [
    {
     "name": "stdout",
     "output_type": "stream",
     "text": [
      "enter a word:banana\n",
      "ban\n"
     ]
    }
   ],
   "source": [
    "string=input(\"enter a word:\")\n",
    "duplicate=\"\"\n",
    "\n",
    "for i in string:\n",
    "    if i not in duplicate:\n",
    "        duplicate+=i\n",
    "print(duplicate)"
   ]
  },
  {
   "cell_type": "markdown",
   "metadata": {},
   "source": [
    "# Write a Python program find the common values that appear in two given strings\n"
   ]
  },
  {
   "cell_type": "code",
   "execution_count": 31,
   "metadata": {},
   "outputs": [
    {
     "name": "stdout",
     "output_type": "stream",
     "text": [
      "enter a word:gotyou\n",
      "enter a word:findyou\n",
      "{'y', 'o', 'u'}\n"
     ]
    }
   ],
   "source": [
    "string1=set(input(\"enter a word:\"))\n",
    "string2=set(input(\"enter a word:\"))\n",
    "\n",
    "s=string1.intersection(string2)\n",
    "print(s)"
   ]
  },
  {
   "cell_type": "markdown",
   "metadata": {},
   "source": [
    "# Write a Python program to remove duplicate words from a given string\n"
   ]
  },
  {
   "cell_type": "code",
   "execution_count": 40,
   "metadata": {},
   "outputs": [
    {
     "name": "stdout",
     "output_type": "stream",
     "text": [
      "Playing is good but studying also\n"
     ]
    }
   ],
   "source": [
    "string=\"Playing is good but studying is also good\".split()\n",
    "duplicate=[]\n",
    "\n",
    "for i in string:\n",
    "    if (string.count(i)>=1 and (i not in duplicate)):\n",
    "        duplicate.append(i)\n",
    "print(\" \".join(duplicate))"
   ]
  }
 ],
 "metadata": {
  "kernelspec": {
   "display_name": "Python 3",
   "language": "python",
   "name": "python3"
  },
  "language_info": {
   "codemirror_mode": {
    "name": "ipython",
    "version": 3
   },
   "file_extension": ".py",
   "mimetype": "text/x-python",
   "name": "python",
   "nbconvert_exporter": "python",
   "pygments_lexer": "ipython3",
   "version": "3.7.6"
  }
 },
 "nbformat": 4,
 "nbformat_minor": 4
}
