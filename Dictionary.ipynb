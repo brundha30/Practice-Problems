{
 "cells": [
  {
   "cell_type": "markdown",
   "metadata": {},
   "source": [
    "# Merge two Python dictionaries into one\n"
   ]
  },
  {
   "cell_type": "code",
   "execution_count": 6,
   "metadata": {},
   "outputs": [
    {
     "name": "stdout",
     "output_type": "stream",
     "text": [
      "Merge dict: {'Name': 'Brundha', 'Gender': 'Female', 'Role': 'Student', 'Place': 'Kanyakumari'}\n"
     ]
    }
   ],
   "source": [
    "dict1={\"Name\":\"Brundha\",\"Gender\":\"Female\"}\n",
    "dict2={\"Role\":\"Student\",\"Place\":\"Kanyakumari\"}\n",
    "\n",
    "dict1.update(dict2)\n",
    "print(\"Merge dict:\",dict1)"
   ]
  },
  {
   "cell_type": "markdown",
   "metadata": {},
   "source": [
    "# Extract all the keys from the Dictionary\n"
   ]
  },
  {
   "cell_type": "code",
   "execution_count": 14,
   "metadata": {},
   "outputs": [
    {
     "name": "stdout",
     "output_type": "stream",
     "text": [
      "dict_keys(['Name', 'Gender'])\n",
      "Name\n",
      "Gender\n"
     ]
    }
   ],
   "source": [
    "dict1={\"Name\":\"Brundha\",\"Gender\":\"Female\"}\n",
    "print(dict1.keys())\n",
    "#or\n",
    "for i in dict1.keys():\n",
    "    print(i)\n"
   ]
  },
  {
   "cell_type": "markdown",
   "metadata": {},
   "source": [
    "# Extract all values from the Dictionary\n"
   ]
  },
  {
   "cell_type": "code",
   "execution_count": 15,
   "metadata": {},
   "outputs": [
    {
     "name": "stdout",
     "output_type": "stream",
     "text": [
      "dict_values(['Brundha', 'Female'])\n",
      "Brundha\n",
      "Female\n"
     ]
    }
   ],
   "source": [
    "dict1={\"Name\":\"Brundha\",\"Gender\":\"Female\"}\n",
    "print(dict1.values())\n",
    "#or\n",
    "for i in dict1.values():\n",
    "    print(i)"
   ]
  },
  {
   "cell_type": "markdown",
   "metadata": {},
   "source": [
    "# Extract Both and Key values pair From the Dictionary\n"
   ]
  },
  {
   "cell_type": "code",
   "execution_count": 16,
   "metadata": {},
   "outputs": [
    {
     "name": "stdout",
     "output_type": "stream",
     "text": [
      "{'Name': 'Brundha', 'Gender': 'Female'}\n"
     ]
    }
   ],
   "source": [
    "dict1={\"Name\":\"Brundha\",\"Gender\":\"Female\"}\n",
    "print(dict1)"
   ]
  },
  {
   "cell_type": "markdown",
   "metadata": {},
   "source": [
    "# Create Your own Dictionary Like This :     d={1:2,2:3,3:4,4:5,5:6}\n"
   ]
  },
  {
   "cell_type": "code",
   "execution_count": 20,
   "metadata": {},
   "outputs": [
    {
     "name": "stdout",
     "output_type": "stream",
     "text": [
      "{1: 2, 2: 3, 3: 4, 4: 5, 5: 6}\n"
     ]
    }
   ],
   "source": [
    "d={}\n",
    "\n",
    "for i in range(1,6):\n",
    "    d[i]=i+1\n",
    "\n",
    "print(d)"
   ]
  },
  {
   "cell_type": "markdown",
   "metadata": {},
   "source": [
    "# Create Your own Dictionary Like This : d={2:4,3:6,4:8,5:10,6:12}\n"
   ]
  },
  {
   "cell_type": "code",
   "execution_count": 23,
   "metadata": {},
   "outputs": [
    {
     "name": "stdout",
     "output_type": "stream",
     "text": [
      "{2: 4, 3: 6, 4: 8, 5: 10, 6: 12}\n"
     ]
    }
   ],
   "source": [
    "d={}\n",
    "\n",
    "for i in range(2,7,1):\n",
    "    d[i]=i*2\n",
    "\n",
    "print(d)"
   ]
  },
  {
   "cell_type": "markdown",
   "metadata": {},
   "source": [
    "# Create Your own Dictionary Like This : d={2:4,4:8,6:12,8:16,10:20}\n"
   ]
  },
  {
   "cell_type": "code",
   "execution_count": 24,
   "metadata": {},
   "outputs": [
    {
     "name": "stdout",
     "output_type": "stream",
     "text": [
      "{2: 4, 4: 8, 6: 12, 8: 16, 10: 20}\n"
     ]
    }
   ],
   "source": [
    "d={}\n",
    "\n",
    "for i in range(2,11,2):\n",
    "    d[i]=i*2\n",
    "    \n",
    "print(d)"
   ]
  },
  {
   "cell_type": "markdown",
   "metadata": {},
   "source": [
    "# Create Your own Dictionary Like This : d={1:1,2:8,3:27,4:64,5:125}\n"
   ]
  },
  {
   "cell_type": "code",
   "execution_count": 26,
   "metadata": {},
   "outputs": [
    {
     "name": "stdout",
     "output_type": "stream",
     "text": [
      "{1: 1, 2: 8, 3: 27, 4: 64, 5: 125}\n"
     ]
    }
   ],
   "source": [
    "d={}\n",
    "\n",
    "for i in range(1,6):\n",
    "    d[i]=i**3\n",
    "    \n",
    "print(d)"
   ]
  },
  {
   "cell_type": "markdown",
   "metadata": {},
   "source": [
    "# Create Your own Dictionary Like This : d={5:15,7:21 ,9:27, 11:33 , 13:39}\n"
   ]
  },
  {
   "cell_type": "code",
   "execution_count": 27,
   "metadata": {},
   "outputs": [
    {
     "name": "stdout",
     "output_type": "stream",
     "text": [
      "{5: 15, 7: 21, 9: 27, 11: 33, 13: 39}\n"
     ]
    }
   ],
   "source": [
    "d={}\n",
    "\n",
    "for i in range(5,14,2):\n",
    "    d[i]=i*3    \n",
    "print(d)"
   ]
  },
  {
   "cell_type": "markdown",
   "metadata": {},
   "source": [
    "# Python program to find the size of a Dictionary\n"
   ]
  },
  {
   "cell_type": "code",
   "execution_count": 29,
   "metadata": {},
   "outputs": [
    {
     "name": "stdout",
     "output_type": "stream",
     "text": [
      "4\n"
     ]
    }
   ],
   "source": [
    "dict1={\"Name\":\"Brundha\",\"Gender\":\"Female\",\"Role\":\"Student\",\"Place\":\"Kanyakumari\"}\n",
    "d=len(dict1)\n",
    "print(d)"
   ]
  },
  {
   "cell_type": "markdown",
   "metadata": {},
   "source": [
    "# Python program to find the sum of all items in a dictionary\n"
   ]
  },
  {
   "cell_type": "code",
   "execution_count": 1,
   "metadata": {},
   "outputs": [
    {
     "name": "stdout",
     "output_type": "stream",
     "text": [
      "Sum of all items: 1000\n"
     ]
    }
   ],
   "source": [
    "d={\"a\":100,\"b\":200,\"c\":300,\"d\":400}\n",
    "\n",
    "d1=sum(d.values())\n",
    "print(\"Sum of all items:\",d1)"
   ]
  },
  {
   "cell_type": "markdown",
   "metadata": {},
   "source": [
    "# Write a Python script to sort (ascending and descending) a dictionary by value.\n"
   ]
  },
  {
   "cell_type": "code",
   "execution_count": 12,
   "metadata": {},
   "outputs": [
    {
     "name": "stdout",
     "output_type": "stream",
     "text": [
      "Ascending order: [2, 3, 5, 6]\n",
      "Descending order: [6, 5, 3, 2]\n"
     ]
    }
   ],
   "source": [
    "dict1={2:3,1:2,8:6,3:5}\n",
    "\n",
    "dict2=list(dict1.values())\n",
    "\n",
    "dict2.sort()\n",
    "print(\"Ascending order:\",dict2)\n",
    "\n",
    "dict2.sort(reverse=True)\n",
    "print(\"Descending order:\",dict2)\n"
   ]
  },
  {
   "cell_type": "markdown",
   "metadata": {},
   "source": [
    "# Write a Python script to add a key to a dictionary\n"
   ]
  },
  {
   "cell_type": "code",
   "execution_count": 14,
   "metadata": {},
   "outputs": [
    {
     "name": "stdout",
     "output_type": "stream",
     "text": [
      "{'Name': 'brundha', 'Age': 22, 'gender': 'female'}\n"
     ]
    }
   ],
   "source": [
    "d={\"Name\":\"brundha\",\"Age\":22}\n",
    "d[\"gender\"]=\"female\"\n",
    "print(d)"
   ]
  },
  {
   "cell_type": "markdown",
   "metadata": {},
   "source": [
    "# Write a Python script to Delete a key to a dictionary\n"
   ]
  },
  {
   "cell_type": "code",
   "execution_count": 16,
   "metadata": {},
   "outputs": [
    {
     "name": "stdout",
     "output_type": "stream",
     "text": [
      "{'Name': 'brundha', 'Age': 22}\n"
     ]
    }
   ],
   "source": [
    "d={'Name': 'brundha', 'Age': 22, 'gender': 'female'}\n",
    "del d[\"gender\"]\n",
    "print(d)"
   ]
  },
  {
   "cell_type": "markdown",
   "metadata": {},
   "source": [
    "# Write a Python program to iterate over dictionaries using for loops\n"
   ]
  },
  {
   "cell_type": "code",
   "execution_count": 18,
   "metadata": {},
   "outputs": [
    {
     "name": "stdout",
     "output_type": "stream",
     "text": [
      "('Name', 'brundha')\n",
      "('Age', 22)\n",
      "('gender', 'female')\n"
     ]
    }
   ],
   "source": [
    "d={'Name': 'brundha', 'Age': 22, 'gender': 'female'}\n",
    "for i in d.items():\n",
    "    print(i)"
   ]
  },
  {
   "attachments": {},
   "cell_type": "markdown",
   "metadata": {},
   "source": [
    "# Write a Python program to multiply all the items in a dictionary.\n",
    "\n"
   ]
  },
  {
   "cell_type": "code",
   "execution_count": 26,
   "metadata": {},
   "outputs": [
    {
     "name": "stdout",
     "output_type": "stream",
     "text": [
      "2400000000\n"
     ]
    }
   ],
   "source": [
    "d={\"a\":100,\"b\":200,\"c\":300,\"d\":400}\n",
    "mul=1\n",
    "for i in d:\n",
    "    mul*=d[i]\n",
    "print(mul)"
   ]
  },
  {
   "cell_type": "markdown",
   "metadata": {},
   "source": [
    "# Write a Python program to sum all the items in a dictionary.\n"
   ]
  },
  {
   "cell_type": "code",
   "execution_count": 28,
   "metadata": {},
   "outputs": [
    {
     "name": "stdout",
     "output_type": "stream",
     "text": [
      "1000\n"
     ]
    }
   ],
   "source": [
    "d={\"a\":100,\"b\":200,\"c\":300,\"d\":400}\n",
    "add=0\n",
    "for i in d:\n",
    "    add+=d[i]\n",
    "print(add)"
   ]
  },
  {
   "attachments": {},
   "cell_type": "markdown",
   "metadata": {},
   "source": [
    "# Write a Python program to get the maximum and minimum value in a dictionary\n",
    "\n"
   ]
  },
  {
   "cell_type": "code",
   "execution_count": 29,
   "metadata": {},
   "outputs": [
    {
     "name": "stdout",
     "output_type": "stream",
     "text": [
      "Maximum number: 400\n",
      "Minimum number: 100\n"
     ]
    }
   ],
   "source": [
    "d={\"a\":100,\"b\":200,\"c\":300,\"d\":400}\n",
    "\n",
    "x=d.values()\n",
    "maxi=max(x)\n",
    "mini=min(x)\n",
    "\n",
    "print(\"Maximum number:\",maxi)\n",
    "print(\"Minimum number:\",mini)\n"
   ]
  },
  {
   "cell_type": "markdown",
   "metadata": {},
   "source": [
    "# Write a Python program to check a dictionary is empty or not\n"
   ]
  },
  {
   "cell_type": "code",
   "execution_count": 33,
   "metadata": {},
   "outputs": [
    {
     "name": "stdout",
     "output_type": "stream",
     "text": [
      "Dictionary is empty.\n"
     ]
    }
   ],
   "source": [
    "d={}\n",
    "dict={\"a\":67}\n",
    "if (len(d)==0):\n",
    "    print(\"Dictionary is empty.\")\n",
    "else:\n",
    "    print(\"Dictionary is not empty.\")"
   ]
  },
  {
   "cell_type": "markdown",
   "metadata": {},
   "source": [
    "# Write a Python program to print a dictionary line by line\n"
   ]
  },
  {
   "cell_type": "code",
   "execution_count": 34,
   "metadata": {},
   "outputs": [
    {
     "name": "stdout",
     "output_type": "stream",
     "text": [
      "Name : brundha\n",
      "Age : 22\n",
      "gender : female\n"
     ]
    }
   ],
   "source": [
    "d={'Name': 'brundha', 'Age': 22, 'gender': 'female'}\n",
    "\n",
    "for keys,values in d.items():\n",
    "    print(keys,\":\",values)"
   ]
  }
 ],
 "metadata": {
  "kernelspec": {
   "display_name": "Python 3",
   "language": "python",
   "name": "python3"
  },
  "language_info": {
   "codemirror_mode": {
    "name": "ipython",
    "version": 3
   },
   "file_extension": ".py",
   "mimetype": "text/x-python",
   "name": "python",
   "nbconvert_exporter": "python",
   "pygments_lexer": "ipython3",
   "version": "3.7.6"
  }
 },
 "nbformat": 4,
 "nbformat_minor": 4
}
