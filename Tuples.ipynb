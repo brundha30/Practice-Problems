{
 "cells": [
  {
   "cell_type": "markdown",
   "metadata": {},
   "source": [
    "# Python program to Find the size of a Tuple\n"
   ]
  },
  {
   "cell_type": "code",
   "execution_count": 2,
   "metadata": {},
   "outputs": [
    {
     "name": "stdout",
     "output_type": "stream",
     "text": [
      "5\n"
     ]
    }
   ],
   "source": [
    "tuple=(1,2,3,4,5)\n",
    "\n",
    "t1=len(tuple)\n",
    "\n",
    "print(t1)"
   ]
  },
  {
   "cell_type": "markdown",
   "metadata": {},
   "source": [
    "# Python – Adding Tuple to List and vice – versa\n"
   ]
  },
  {
   "cell_type": "code",
   "execution_count": 13,
   "metadata": {},
   "outputs": [
    {
     "name": "stdout",
     "output_type": "stream",
     "text": [
      "[((2, 6), (4, 5), ('Apple', 2)), 1, 'Ram', '89']\n"
     ]
    }
   ],
   "source": [
    "t_1=((2,6),(4,5),(\"Apple\",2))\n",
    "\n",
    "lst_1=[1,\"Ram\",\"89\"]\n",
    "\n",
    "lst_2=lst_1.insert(0,((2,6),(4,5),(\"Apple\",2)))\n",
    "\n",
    "print(lst_1)\n",
    "    "
   ]
  },
  {
   "cell_type": "markdown",
   "metadata": {},
   "source": [
    "# Python – Sum of tuple elements\n"
   ]
  },
  {
   "cell_type": "code",
   "execution_count": 16,
   "metadata": {},
   "outputs": [
    {
     "name": "stdout",
     "output_type": "stream",
     "text": [
      "21\n"
     ]
    }
   ],
   "source": [
    "a=(1,2,3,4,5,6)\n",
    "\n",
    "c=0\n",
    "for i in a:\n",
    "    c+=i\n",
    "print(c)"
   ]
  },
  {
   "cell_type": "markdown",
   "metadata": {},
   "source": [
    "# Python – Modulo of tuple elements\n"
   ]
  },
  {
   "cell_type": "code",
   "execution_count": 1,
   "metadata": {},
   "outputs": [
    {
     "name": "stdout",
     "output_type": "stream",
     "text": [
      "(1, 1, 1)\n"
     ]
    }
   ],
   "source": [
    "t_1=(3,6,7)\n",
    "t_2=(2,5,6)\n",
    "\n",
    "mod=[]\n",
    "for i in range(0,len(t_1)):\n",
    "    mod.append(t_1[i]%t_2[i])\n",
    "m=tuple(mod)\n",
    "print(m)"
   ]
  },
  {
   "cell_type": "markdown",
   "metadata": {},
   "source": [
    "# Python – Removing duplicates from tuple\n"
   ]
  },
  {
   "cell_type": "code",
   "execution_count": 8,
   "metadata": {},
   "outputs": [
    {
     "name": "stdout",
     "output_type": "stream",
     "text": [
      "(1, 2, 3, 4, 5, 7, 9)\n"
     ]
    }
   ],
   "source": [
    "t=(1,2,3,4,5,2,3,4,7,9,5)\n",
    "t1=[]\n",
    "for i in t:\n",
    "    if i not in t1:\n",
    "        t1.append(i)\n",
    "\n",
    "t2=tuple(t1)\n",
    "print(t2)\n",
    "\n"
   ]
  },
  {
   "cell_type": "code",
   "execution_count": null,
   "metadata": {},
   "outputs": [],
   "source": []
  }
 ],
 "metadata": {
  "kernelspec": {
   "display_name": "Python 3",
   "language": "python",
   "name": "python3"
  },
  "language_info": {
   "codemirror_mode": {
    "name": "ipython",
    "version": 3
   },
   "file_extension": ".py",
   "mimetype": "text/x-python",
   "name": "python",
   "nbconvert_exporter": "python",
   "pygments_lexer": "ipython3",
   "version": "3.7.6"
  }
 },
 "nbformat": 4,
 "nbformat_minor": 4
}
