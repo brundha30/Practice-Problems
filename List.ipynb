{
 "cells": [
  {
   "cell_type": "markdown",
   "metadata": {},
   "source": [
    "# Python program to interchange first and last elements in a list\n"
   ]
  },
  {
   "cell_type": "code",
   "execution_count": 17,
   "metadata": {},
   "outputs": [
    {
     "name": "stdout",
     "output_type": "stream",
     "text": [
      "[1, '38', 99, 'Donkey', 'London', 'Apple']\n"
     ]
    }
   ],
   "source": [
    "a=[\"Apple\",\"38\",99,\"Donkey\",\"London\",1]\n",
    "\n",
    "a[0],a[5]=a[5],a[0]\n",
    "    \n",
    "print(a)"
   ]
  },
  {
   "cell_type": "markdown",
   "metadata": {},
   "source": [
    "# Python program to swap two elements in a list\n"
   ]
  },
  {
   "cell_type": "code",
   "execution_count": 20,
   "metadata": {},
   "outputs": [
    {
     "name": "stdout",
     "output_type": "stream",
     "text": [
      "['145', 'Hello', 2345, 'Twenty', 88]\n"
     ]
    }
   ],
   "source": [
    "a=[\"145\",\"Twenty\",88,\"Hello\",2345]\n",
    "\n",
    "a[1],a[3]=a[3],a[1]\n",
    "a[2],a[4]=a[4],a[2]\n",
    "\n",
    "print(a)"
   ]
  },
  {
   "cell_type": "markdown",
   "metadata": {},
   "source": [
    "# Python Program to Swap elements in String list\n"
   ]
  },
  {
   "cell_type": "code",
   "execution_count": 22,
   "metadata": {},
   "outputs": [
    {
     "name": "stdout",
     "output_type": "stream",
     "text": [
      "['A', 'B', 'Z', 'X', 'Y', 'C']\n"
     ]
    }
   ],
   "source": [
    "b=[\"A\",\"B\",\"C\",\"X\",\"Y\",\"Z\"]\n",
    "\n",
    "b[2],b[5]=b[5],b[2]\n",
    "\n",
    "print(b)\n"
   ]
  },
  {
   "cell_type": "markdown",
   "metadata": {},
   "source": [
    "# Python Program to find all the Ways for  getting the  length of list\n"
   ]
  },
  {
   "cell_type": "code",
   "execution_count": 25,
   "metadata": {},
   "outputs": [
    {
     "name": "stdout",
     "output_type": "stream",
     "text": [
      "length of the list: 7\n"
     ]
    }
   ],
   "source": [
    "a=[\"1\",\"Fizz\",\"You\",35,78,98,\"Honey\"]\n",
    "\n",
    "print(\"length of the list:\",len(a))"
   ]
  },
  {
   "cell_type": "markdown",
   "metadata": {},
   "source": [
    "# Python Program to check if element exists in list\n"
   ]
  },
  {
   "cell_type": "code",
   "execution_count": 33,
   "metadata": {},
   "outputs": [
    {
     "name": "stdout",
     "output_type": "stream",
     "text": [
      "Element exist\n"
     ]
    }
   ],
   "source": [
    "a=[\"Naughty\",121,\"Tiny\",\"a\"]\n",
    "\n",
    "for i in a:\n",
    "    if i==\"a\":\n",
    "        print(\"Element exist\")\n",
    "    \n",
    "    "
   ]
  },
  {
   "cell_type": "markdown",
   "metadata": {},
   "source": [
    "# Python Program  to clear a list in Python\n"
   ]
  },
  {
   "cell_type": "code",
   "execution_count": 37,
   "metadata": {},
   "outputs": [
    {
     "name": "stdout",
     "output_type": "stream",
     "text": [
      "[]\n"
     ]
    }
   ],
   "source": [
    "a=[\"1\",\"Fizz\",\"You\",35,78,98,\"Honey\"]\n",
    "\n",
    "a.clear()\n",
    "\n",
    "print(a)"
   ]
  },
  {
   "cell_type": "markdown",
   "metadata": {},
   "source": [
    "# Python program to  Reverse a List\n"
   ]
  },
  {
   "cell_type": "code",
   "execution_count": 9,
   "metadata": {},
   "outputs": [
    {
     "name": "stdout",
     "output_type": "stream",
     "text": [
      "['a', 'Tiny', 121, 'Naughty']\n"
     ]
    }
   ],
   "source": [
    "a=[\"Naughty\",121,\"Tiny\",\"a\"]\n",
    "\n",
    "b=a[::-1] #or reverse()\n",
    "print(b)"
   ]
  },
  {
   "cell_type": "markdown",
   "metadata": {},
   "source": [
    "# Python Program to Clone or Copy one list into another\n"
   ]
  },
  {
   "cell_type": "code",
   "execution_count": 45,
   "metadata": {},
   "outputs": [
    {
     "name": "stdout",
     "output_type": "stream",
     "text": [
      "['Night', 6575, 'Ram']\n"
     ]
    }
   ],
   "source": [
    "list_1=[\"Night\",6575,\"Ram\"]\n",
    "list_2=list_1\n",
    "\n",
    "print(list_2)"
   ]
  },
  {
   "cell_type": "markdown",
   "metadata": {},
   "source": [
    "# Python Program to Count occurrences of an element in a list\n"
   ]
  },
  {
   "cell_type": "code",
   "execution_count": 6,
   "metadata": {},
   "outputs": [
    {
     "name": "stdout",
     "output_type": "stream",
     "text": [
      "4\n"
     ]
    }
   ],
   "source": [
    "c=[1,1,1,2,2,2,3,3,3,3,4,4,4,5,5,5]\n",
    "\n",
    "d=0\n",
    "for i in c:\n",
    "    if i==3:\n",
    "        d+=1\n",
    "print(d)\n"
   ]
  },
  {
   "cell_type": "markdown",
   "metadata": {},
   "source": [
    "# Python Program to find sum and average of List in Python\n"
   ]
  },
  {
   "cell_type": "code",
   "execution_count": 41,
   "metadata": {},
   "outputs": [
    {
     "name": "stdout",
     "output_type": "stream",
     "text": [
      "Sum: 294\n",
      "Average: 58.8\n"
     ]
    }
   ],
   "source": [
    "a=[50,60,49,45,90]\n",
    "\n",
    "c=0\n",
    "for i in a:\n",
    "    c+=i\n",
    "print(\"Sum:\",c)\n",
    "average=c/len(a)\n",
    "print(\"Average:\",average)"
   ]
  },
  {
   "cell_type": "markdown",
   "metadata": {},
   "source": [
    "# Python Program to find the Sum of number digits in List\n"
   ]
  },
  {
   "cell_type": "code",
   "execution_count": 42,
   "metadata": {},
   "outputs": [
    {
     "name": "stdout",
     "output_type": "stream",
     "text": [
      "Sum: 294\n"
     ]
    }
   ],
   "source": [
    "a=[50,60,49,45,90]\n",
    "\n",
    "c=0\n",
    "for i in a:\n",
    "    c+=i\n",
    "print(\"Sum:\",c)"
   ]
  },
  {
   "cell_type": "markdown",
   "metadata": {},
   "source": [
    "# Python Program to Multiply all numbers in the list\n"
   ]
  },
  {
   "cell_type": "code",
   "execution_count": 34,
   "metadata": {},
   "outputs": [
    {
     "name": "stdout",
     "output_type": "stream",
     "text": [
      "120\n"
     ]
    }
   ],
   "source": [
    "import numpy\n",
    "\n",
    "a=[1,2,3,4,5]\n",
    "\n",
    "ans=numpy.prod(a)\n",
    "print(ans)"
   ]
  },
  {
   "cell_type": "markdown",
   "metadata": {},
   "source": [
    "# Python program to find smallest number in a list\n"
   ]
  },
  {
   "cell_type": "code",
   "execution_count": 6,
   "metadata": {},
   "outputs": [
    {
     "name": "stdout",
     "output_type": "stream",
     "text": [
      "Smallest number: 45\n"
     ]
    }
   ],
   "source": [
    "a=[50,60,49,45,90]\n",
    "\n",
    "a.sort()\n",
    "\n",
    "print(\"Smallest number:\",a[0])\n",
    "\n"
   ]
  },
  {
   "cell_type": "markdown",
   "metadata": {},
   "source": [
    "# Python program to find largest number in a list\n"
   ]
  },
  {
   "cell_type": "code",
   "execution_count": 5,
   "metadata": {},
   "outputs": [
    {
     "name": "stdout",
     "output_type": "stream",
     "text": [
      "Largest number: 90\n"
     ]
    }
   ],
   "source": [
    "a=[50,60,49,45,90]\n",
    "\n",
    "a.sort()\n",
    "\n",
    "print(\"Largest number:\",a[-1])"
   ]
  },
  {
   "cell_type": "markdown",
   "metadata": {},
   "source": [
    "# Python program to find second largest number in a list\n"
   ]
  },
  {
   "cell_type": "code",
   "execution_count": 7,
   "metadata": {},
   "outputs": [
    {
     "name": "stdout",
     "output_type": "stream",
     "text": [
      "Second largest number: 49\n"
     ]
    }
   ],
   "source": [
    "a=[50,60,49,45,90]\n",
    "\n",
    "a.sort()\n",
    "\n",
    "print(\"Second largest number:\",a[1])"
   ]
  },
  {
   "cell_type": "markdown",
   "metadata": {},
   "source": [
    "# Python program to print even numbers in a list\n"
   ]
  },
  {
   "cell_type": "code",
   "execution_count": 11,
   "metadata": {},
   "outputs": [
    {
     "name": "stdout",
     "output_type": "stream",
     "text": [
      "2 4 6 8 10 "
     ]
    }
   ],
   "source": [
    "a=[1,2,3,4,5,6,7,8,9,10]\n",
    "\n",
    "for i in a:\n",
    "    if i%2==0:\n",
    "        print(i,end=\" \")\n"
   ]
  },
  {
   "cell_type": "markdown",
   "metadata": {},
   "source": [
    "# Python program to print odd numbers in a List\n"
   ]
  },
  {
   "cell_type": "code",
   "execution_count": 12,
   "metadata": {},
   "outputs": [
    {
     "name": "stdout",
     "output_type": "stream",
     "text": [
      "1 3 5 7 9 "
     ]
    }
   ],
   "source": [
    "a=[1,2,3,4,5,6,7,8,9,10]\n",
    "\n",
    "for i in a:\n",
    "    if i%2!=0:\n",
    "        print(i,end=\" \")\n"
   ]
  },
  {
   "cell_type": "markdown",
   "metadata": {},
   "source": [
    "# Python program to print all even numbers in a range\n"
   ]
  },
  {
   "cell_type": "code",
   "execution_count": 13,
   "metadata": {},
   "outputs": [
    {
     "name": "stdout",
     "output_type": "stream",
     "text": [
      "2 4 6 8 10 12 14 16 18 20 22 24 26 28 30 "
     ]
    }
   ],
   "source": [
    "for i in range(1,31):\n",
    "    if i%2==0:\n",
    "        print(i,end=\" \")"
   ]
  },
  {
   "cell_type": "markdown",
   "metadata": {},
   "source": [
    "# Python program to print all odd numbers in a range\n"
   ]
  },
  {
   "cell_type": "code",
   "execution_count": 14,
   "metadata": {},
   "outputs": [
    {
     "name": "stdout",
     "output_type": "stream",
     "text": [
      "1 3 5 7 9 11 13 15 17 19 21 23 25 27 29 "
     ]
    }
   ],
   "source": [
    "for i in range(1,31):\n",
    "    if i%2!=0:\n",
    "        print(i,end=\" \")"
   ]
  },
  {
   "cell_type": "markdown",
   "metadata": {},
   "source": [
    "# Python program to count Even and Odd numbers in a List\n"
   ]
  },
  {
   "cell_type": "code",
   "execution_count": 15,
   "metadata": {},
   "outputs": [
    {
     "name": "stdout",
     "output_type": "stream",
     "text": [
      "Even numbers are: 5\n",
      "Odd numbers are: 5\n"
     ]
    }
   ],
   "source": [
    "a=[1,2,3,4,5,6,7,8,9,10]\n",
    "\n",
    "even=0\n",
    "odd=0\n",
    "for i in a:\n",
    "    if i%2==0:\n",
    "        even+=1\n",
    "    else:\n",
    "        i%2!=0\n",
    "        odd+=1\n",
    "print(\"Even numbers are:\",even)\n",
    "print(\"Odd numbers are:\",odd)\n",
    "    "
   ]
  },
  {
   "cell_type": "markdown",
   "metadata": {},
   "source": [
    "# Python program to print positive numbers in a list\n"
   ]
  },
  {
   "cell_type": "code",
   "execution_count": 19,
   "metadata": {},
   "outputs": [
    {
     "name": "stdout",
     "output_type": "stream",
     "text": [
      "1 2 4 6 7 9 "
     ]
    }
   ],
   "source": [
    "a=[1,2,-3,4,-5,6,7,-8,9,-10]\n",
    "\n",
    "for i in a:\n",
    "    if i>0:\n",
    "        print(i,end=\" \")\n",
    "    "
   ]
  },
  {
   "cell_type": "markdown",
   "metadata": {},
   "source": [
    "# Python program to print negative numbers in a list\n"
   ]
  },
  {
   "cell_type": "code",
   "execution_count": 20,
   "metadata": {},
   "outputs": [
    {
     "name": "stdout",
     "output_type": "stream",
     "text": [
      "-3 -5 -8 -10 "
     ]
    }
   ],
   "source": [
    "a=[1,2,-3,4,-5,6,7,-8,9,-10]\n",
    "\n",
    "for i in a:\n",
    "    if i<0:\n",
    "        print(i,end=\" \")"
   ]
  },
  {
   "cell_type": "markdown",
   "metadata": {},
   "source": [
    "# Python program to print all positive numbers in a range\n"
   ]
  },
  {
   "cell_type": "code",
   "execution_count": 21,
   "metadata": {},
   "outputs": [
    {
     "name": "stdout",
     "output_type": "stream",
     "text": [
      "1 2 3 4 5 6 7 8 9 "
     ]
    }
   ],
   "source": [
    "for i in range(-10,10):\n",
    "    if i>0:\n",
    "        print(i,end=\" \")"
   ]
  },
  {
   "cell_type": "markdown",
   "metadata": {},
   "source": [
    "# Python program to print all negative numbers in a range\n"
   ]
  },
  {
   "cell_type": "code",
   "execution_count": 22,
   "metadata": {},
   "outputs": [
    {
     "name": "stdout",
     "output_type": "stream",
     "text": [
      "-10 -9 -8 -7 -6 -5 -4 -3 -2 -1 "
     ]
    }
   ],
   "source": [
    "for i in range(-10,10):\n",
    "    if i<0:\n",
    "        print(i,end=\" \")"
   ]
  },
  {
   "cell_type": "markdown",
   "metadata": {},
   "source": [
    "# Python program to count positive and negative numbers in a list\n"
   ]
  },
  {
   "cell_type": "code",
   "execution_count": 25,
   "metadata": {},
   "outputs": [
    {
     "name": "stdout",
     "output_type": "stream",
     "text": [
      "No.of positive numbers: 6\n",
      "No.of negative numbers are: 4\n"
     ]
    }
   ],
   "source": [
    "a=[1,2,-3,4,-5,6,7,-8,9,-10]\n",
    "\n",
    "positive=0\n",
    "negative=0\n",
    "for i in a:\n",
    "    if i>0:\n",
    "        positive+=1\n",
    "    else:\n",
    "        i<0\n",
    "        negative+=1\n",
    "print(\"No.of positive numbers:\",positive)\n",
    "print(\"No.of negative numbers are:\",negative)"
   ]
  },
  {
   "cell_type": "markdown",
   "metadata": {},
   "source": [
    "# Remove multiple elements from a list in Python\n"
   ]
  },
  {
   "cell_type": "code",
   "execution_count": 31,
   "metadata": {},
   "outputs": [
    {
     "name": "stdout",
     "output_type": "stream",
     "text": [
      "['1', 'Fizz', 'You', 'Honey']\n"
     ]
    }
   ],
   "source": [
    "a=[\"1\",\"Fizz\",\"You\",35,78,98,\"Honey\"]\n",
    "\n",
    "del a[3:6]\n",
    "\n",
    "print(a)"
   ]
  },
  {
   "cell_type": "markdown",
   "metadata": {},
   "source": [
    "# Python Program to  Remove empty tuples from a list\n"
   ]
  },
  {
   "cell_type": "code",
   "execution_count": 33,
   "metadata": {},
   "outputs": [
    {
     "name": "stdout",
     "output_type": "stream",
     "text": [
      "['1', 'Fizz', 'You', 'Honey']\n"
     ]
    }
   ],
   "source": [
    "a=[\"1\",\"Fizz\",\"You\",(35,78,98),\"Honey\"]\n",
    "\n",
    "a.remove((35,78,98))\n",
    "\n",
    "print(a)"
   ]
  },
  {
   "cell_type": "markdown",
   "metadata": {},
   "source": [
    "# Python Program to print duplicates from a list of integers\n"
   ]
  },
  {
   "cell_type": "code",
   "execution_count": 34,
   "metadata": {},
   "outputs": [
    {
     "name": "stdout",
     "output_type": "stream",
     "text": [
      "2 3 4 5 "
     ]
    }
   ],
   "source": [
    "l=[1,2,3,4,5,2,3,4,7,9,5]\n",
    "l1=[]\n",
    "for i in l:\n",
    "    if i not in l1:\n",
    "        l1.append(i)\n",
    "    else:\n",
    "        print(i,end=' ')"
   ]
  },
  {
   "cell_type": "code",
   "execution_count": null,
   "metadata": {},
   "outputs": [],
   "source": []
  }
 ],
 "metadata": {
  "kernelspec": {
   "display_name": "Python 3",
   "language": "python",
   "name": "python3"
  },
  "language_info": {
   "codemirror_mode": {
    "name": "ipython",
    "version": 3
   },
   "file_extension": ".py",
   "mimetype": "text/x-python",
   "name": "python",
   "nbconvert_exporter": "python",
   "pygments_lexer": "ipython3",
   "version": "3.7.6"
  }
 },
 "nbformat": 4,
 "nbformat_minor": 4
}
