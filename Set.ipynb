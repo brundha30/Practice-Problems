{
 "cells": [
  {
   "cell_type": "markdown",
   "metadata": {},
   "source": [
    "# Find the size of a Set in Python\n"
   ]
  },
  {
   "cell_type": "code",
   "execution_count": 2,
   "metadata": {},
   "outputs": [
    {
     "name": "stdout",
     "output_type": "stream",
     "text": [
      "Size of a set: 3\n"
     ]
    }
   ],
   "source": [
    "a={\"Am\",\"45\",123}\n",
    "\n",
    "b=len(a)\n",
    "\n",
    "print(\"Size of a set:\",b)"
   ]
  },
  {
   "cell_type": "markdown",
   "metadata": {},
   "source": [
    "# Iterate over a set in Python\n"
   ]
  },
  {
   "cell_type": "code",
   "execution_count": 8,
   "metadata": {},
   "outputs": [
    {
     "name": "stdout",
     "output_type": "stream",
     "text": [
      "2\n",
      "4\n",
      "5\n",
      "6\n",
      "8\n",
      "Three\n",
      "9\n",
      "10\n",
      "One\n",
      "Seven\n"
     ]
    }
   ],
   "source": [
    "set_1={\"One\",2,\"Three\",4,5,6,\"Seven\",8,9,10}\n",
    "\n",
    "for i in set_1:\n",
    "    print(i)"
   ]
  },
  {
   "cell_type": "markdown",
   "metadata": {},
   "source": [
    "# Python – Maximum and Minimum in a Set\n"
   ]
  },
  {
   "cell_type": "code",
   "execution_count": 14,
   "metadata": {},
   "outputs": [
    {
     "name": "stdout",
     "output_type": "stream",
     "text": [
      "Maximum number in a set: 99\n",
      "Minimum number in a set: 11\n"
     ]
    }
   ],
   "source": [
    "set_1={25,87,48,68,99,56,11}\n",
    "\n",
    "print(\"Maximum number in a set:\",max(set_1))\n",
    "print(\"Minimum number in a set:\",min(set_1))"
   ]
  },
  {
   "cell_type": "markdown",
   "metadata": {},
   "source": [
    "# Python – Remove items from Set\n"
   ]
  },
  {
   "cell_type": "code",
   "execution_count": 15,
   "metadata": {},
   "outputs": [
    {
     "data": {
      "text/plain": [
       "{10, 4, 5, 6, 8, 9, 'One', 'Seven', 'Three'}"
      ]
     },
     "execution_count": 15,
     "metadata": {},
     "output_type": "execute_result"
    }
   ],
   "source": [
    "set_1={\"One\",2,\"Three\",4,5,6,\"Seven\",8,9,10}\n",
    "\n",
    "set_1.pop()\n",
    "set_1"
   ]
  },
  {
   "cell_type": "markdown",
   "metadata": {},
   "source": [
    "# Python – Check if two lists have at-least one element common\n"
   ]
  },
  {
   "cell_type": "code",
   "execution_count": 17,
   "metadata": {},
   "outputs": [
    {
     "name": "stdout",
     "output_type": "stream",
     "text": [
      "{3, 4, 5, 7}\n"
     ]
    }
   ],
   "source": [
    "s1={1,2,3,4,5,6,7,8,9}\n",
    "s2={3,4,5,7,10,11}\n",
    "\n",
    "s3=s1.intersection(s2)\n",
    "print(s3)\n"
   ]
  },
  {
   "cell_type": "markdown",
   "metadata": {},
   "source": [
    "# Python program to find common elements in three lists using sets\n"
   ]
  },
  {
   "cell_type": "code",
   "execution_count": 21,
   "metadata": {},
   "outputs": [
    {
     "data": {
      "text/plain": [
       "{3, 4, 5}"
      ]
     },
     "execution_count": 21,
     "metadata": {},
     "output_type": "execute_result"
    }
   ],
   "source": [
    "s1=[1,2,3,4,5,6,7,8,9]\n",
    "s2=[3,4,5,7,10,11]\n",
    "s3=[3,4,5]\n",
    "\n",
    "s_1=set(s1)\n",
    "s_2=set(s2)\n",
    "s_3=set(s3)\n",
    "\n",
    "s=s_1.intersection(s_2,s_3)\n",
    "print(s)"
   ]
  },
  {
   "cell_type": "markdown",
   "metadata": {},
   "source": [
    "# Python program to find the difference between two lists\n"
   ]
  },
  {
   "cell_type": "code",
   "execution_count": 26,
   "metadata": {},
   "outputs": [
    {
     "name": "stdout",
     "output_type": "stream",
     "text": [
      "{10, 11}\n"
     ]
    }
   ],
   "source": [
    "s1={1,2,3,4,5,6,7,8,9}\n",
    "s2={3,4,5,7,10,11}\n",
    "\n",
    "s3=s2.difference(s1)\n",
    "print(s3)"
   ]
  },
  {
   "cell_type": "markdown",
   "metadata": {},
   "source": [
    "# Python – Program to accept the strings which contains all vowels\n"
   ]
  },
  {
   "cell_type": "code",
   "execution_count": 39,
   "metadata": {},
   "outputs": [
    {
     "name": "stdout",
     "output_type": "stream",
     "text": [
      "Enter a word:elougia\n",
      "All vowels present\n"
     ]
    }
   ],
   "source": [
    "string=input(\"Enter a word:\").lower()\n",
    "vowels=set(\"aeiou\")\n",
    "string_1=set(string)\n",
    "\n",
    "for i in string_1:\n",
    "    if i in vowels:\n",
    "        vowels.remove(i)\n",
    "        \n",
    "if len(vowels)==0:\n",
    "    print(\"All vowels present\")\n",
    "else:\n",
    "    print(\"All vowels not present\")\n",
    "\n"
   ]
  },
  {
   "cell_type": "markdown",
   "metadata": {},
   "source": [
    "# Python program to convert Set into Tuple and Tuple into Set\n"
   ]
  },
  {
   "cell_type": "code",
   "execution_count": 8,
   "metadata": {},
   "outputs": [
    {
     "name": "stdout",
     "output_type": "stream",
     "text": [
      "(1, 'apple', 567)\n",
      "{'Apple', 354, '78.8'}\n"
     ]
    }
   ],
   "source": [
    "#set to tuple\n",
    "set1={1,\"apple\",567}\n",
    "set2=tuple(set1)\n",
    "print(set2)\n",
    "\n",
    "#tuple to set\n",
    "tuple1=(\"Apple\",354,\"78.8\")\n",
    "tuple2=set(tuple1)\n",
    "print(tuple2)"
   ]
  },
  {
   "cell_type": "markdown",
   "metadata": {},
   "source": [
    "# Python program to convert set into a list\n"
   ]
  },
  {
   "cell_type": "code",
   "execution_count": 9,
   "metadata": {},
   "outputs": [
    {
     "name": "stdout",
     "output_type": "stream",
     "text": [
      "[1, 'apple', 567]\n"
     ]
    }
   ],
   "source": [
    "set1={1,\"apple\",567}\n",
    "set2=list(set1)\n",
    "print(set2)"
   ]
  },
  {
   "cell_type": "markdown",
   "metadata": {},
   "source": [
    "# Python program to convert Set to String\n"
   ]
  },
  {
   "cell_type": "code",
   "execution_count": 13,
   "metadata": {},
   "outputs": [
    {
     "name": "stdout",
     "output_type": "stream",
     "text": [
      "<class 'str'>\n",
      "{1, 'apple', 567}\n"
     ]
    }
   ],
   "source": [
    "set1={1,\"apple\",567}\n",
    "set2=str(set1)\n",
    "print(type(set2))\n",
    "print(set2)"
   ]
  },
  {
   "cell_type": "markdown",
   "metadata": {},
   "source": [
    "# Python program to convert String to Set\n"
   ]
  },
  {
   "cell_type": "code",
   "execution_count": 14,
   "metadata": {},
   "outputs": [
    {
     "name": "stdout",
     "output_type": "stream",
     "text": [
      "<class 'set'>\n",
      "{'e', 'A', 'l', 'p'}\n"
     ]
    }
   ],
   "source": [
    "string=\"Apple\"\n",
    "string1=set(string)\n",
    "print(type(string1))\n",
    "print(string1)"
   ]
  },
  {
   "cell_type": "code",
   "execution_count": null,
   "metadata": {},
   "outputs": [],
   "source": []
  }
 ],
 "metadata": {
  "kernelspec": {
   "display_name": "Python 3",
   "language": "python",
   "name": "python3"
  },
  "language_info": {
   "codemirror_mode": {
    "name": "ipython",
    "version": 3
   },
   "file_extension": ".py",
   "mimetype": "text/x-python",
   "name": "python",
   "nbconvert_exporter": "python",
   "pygments_lexer": "ipython3",
   "version": "3.7.6"
  }
 },
 "nbformat": 4,
 "nbformat_minor": 4
}
